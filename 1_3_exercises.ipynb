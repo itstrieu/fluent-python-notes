{
 "cells": [
  {
   "cell_type": "markdown",
   "metadata": {},
   "source": [
    "### Exercise 1: Understanding `__repr__` and `__str__`\n",
    "Write a class called `Card` representing a playing card with a rank (e.g., 'Ace', '2', '3', ...) and suit (e.g., 'Hearts', 'Clubs'). Implement the `__repr__` and `__str__` methods so:\n",
    "- `__repr__` gives a formal string like `Card('Ace', 'Hearts')`.\n",
    "- `__str__` gives a user-friendly string like `'Ace of Hearts'`.\n",
    "\n",
    "**Learning Objective:** Understanding the difference between `__repr__` and `__str__`."
   ]
  },
  {
   "cell_type": "code",
   "execution_count": 230,
   "metadata": {},
   "outputs": [
    {
     "name": "stdout",
     "output_type": "stream",
     "text": [
      "Four of Hearts\n",
      "(Four, Hearts)\n",
      "[(Two, Spades), (Three, Spades), (Four, Spades), (Five, Spades), (Six, Spades), (Seven, Spades), (Eight, Spades), (Nine, Spades), (Ten, Spades), (Jack, Spades)]\n",
      "['Two of Spades', 'Three of Spades', 'Four of Spades', 'Five of Spades', 'Six of Spades', 'Seven of Spades', 'Eight of Spades', 'Nine of Spades', 'Ten of Spades', 'Jack of Spades']\n"
     ]
    }
   ],
   "source": [
    "class Card:\n",
    "    def __init__(self, suit='Spades', rank='Ace'):\n",
    "        self.suit = suit\n",
    "        self.rank = rank\n",
    "    \n",
    "    def __repr__(self):\n",
    "        return f'({self.rank}, {self.suit})'\n",
    "    \n",
    "    def __str__(self):\n",
    "        return f'{self.rank} of {self.suit}'\n",
    "    \n",
    "    def __iter__(self):\n",
    "        # Return an iterator over the attributes (rank and suit)\n",
    "        return iter((self.rank, self.suit))\n",
    "    \n",
    "card = Card('Hearts', rank='Four')\n",
    "print(card) # Four of Hearts\n",
    "print(repr(card)) # Card('Four','Hearts)\n",
    "\n",
    "suits = ['Spades', 'Clovers', 'Hearts', 'Diamonds']\n",
    "ranks = ['Two', 'Three', 'Four', 'Five', 'Six', 'Seven', 'Eight', 'Nine', 'Ten', 'Jack', 'Queen', 'King', 'Ace']\n",
    "deck = [Card(suit, rank) for suit in suits for rank in ranks]\n",
    "\n",
    "print(deck[:10])\n",
    "print([str(card) for card in deck[:10]])\n",
    "    "
   ]
  },
  {
   "cell_type": "markdown",
   "metadata": {},
   "source": [
    "\n",
    "### Exercise 2: Slicing and Indexing\n",
    "Create a class `Deck` that uses a list to store 52 `Card` objects. Implement:\n",
    "1. `__getitem__` to allow slicing (e.g., `deck[:3]` should return the first 3 cards).\n",
    "2. `__len__` to return the number of cards in the deck.\n",
    "\n",
    "**Learning Objective:** Practice customizing data access with Python's special methods.\n"
   ]
  },
  {
   "cell_type": "code",
   "execution_count": 231,
   "metadata": {},
   "outputs": [
    {
     "name": "stdout",
     "output_type": "stream",
     "text": [
      "In your hand, you have: King of Hearts, King of Spades, Five of Spades, Seven of Clubs, Eight of Diamonds\n"
     ]
    }
   ],
   "source": [
    "from random import sample\n",
    "\n",
    "class Deck:\n",
    "    suits = ['Clubs', 'Hearts', 'Diamonds','Spades']\n",
    "    ranks = ['Two', 'Three', 'Four', 'Five', 'Six', 'Seven', 'Eight', 'Nine', 'Ten', 'Jack', 'Queen', 'King', 'Ace']\n",
    "\n",
    "    def __init__(self, number=52):\n",
    "        self.cards_list = [Card(suit, rank) for suit in self.suits for rank in self.ranks]\n",
    "        self.cards: list[Card] = sample(self.cards_list, k=number)\n",
    "        self.number = number\n",
    "    \n",
    "    def __len__(self):\n",
    "        return len(self.cards)\n",
    "    \n",
    "    def __getitem__(self, position):\n",
    "        return self.cards[position]\n",
    "    \n",
    "    def random_card(self, k=None):\n",
    "        if k is None:\n",
    "            k = len(self)\n",
    "        if k <= 0:\n",
    "            raise ValueError(f'You must select a card from 1 to {len(self)}.')\n",
    "        if k > self.number:\n",
    "            raise ValueError(f'You don\\'t have {k} cards.')\n",
    "        return [str(card) for card in sample(self.cards, k=k)]\n",
    "    \n",
    "    def __str__(self):\n",
    "        return f\"Deck with {len(self.cards)} cards: {', '.join(str(card) for card in self.cards[:self.number])}\"\n",
    "\n",
    "deck = Deck(10)\n",
    "# print(f'In your hand, you have: {deck.random_card(12)}') # ValueError: You don't have 12 cards.\n",
    "# print(f'In your hand, you have: {deck.random_card(-2)}') # ValueError: You must select a card from 1 to 10.\n",
    "\n",
    "deck = Deck()\n",
    "print(f'In your hand, you have: {\", \".join(deck.random_card(5))}')"
   ]
  },
  {
   "cell_type": "markdown",
   "metadata": {},
   "source": [
    "### Exercise 3: Customizing `dict`\n",
    "Write a custom dictionary class `CaseInsensitiveDict` that inherits from `dict`. Override the necessary methods to make key access case-insensitive. For example:\n",
    "```python\n",
    "d = CaseInsensitiveDict({'Key': 'value'})\n",
    "assert d['key'] == 'value'\n",
    "```\n",
    "\n",
    "**Learning Objective:** Understanding how to customize dictionary behavior"
   ]
  },
  {
   "cell_type": "code",
   "execution_count": 232,
   "metadata": {},
   "outputs": [
    {
     "name": "stdout",
     "output_type": "stream",
     "text": [
      "{'hi': 'There', 'see you': 'Later'}\n",
      "There\n",
      "Later\n"
     ]
    }
   ],
   "source": [
    "import collections\n",
    "\n",
    "class CaseInsensitiveDict(collections.UserDict): # It's preferable to subclass from UserDict\n",
    "    def __setitem__(self, key, value): # ensures key.lower when key, value added to dict\n",
    "        key = key.lower()\n",
    "        self.data[key] = value\n",
    "    \n",
    "    def __getitem__(self, key): # retrieves value with key.lower\n",
    "       key = key.lower()\n",
    "       return self.data[key]\n",
    "   \n",
    "    def __delitem__(self, key): # deletes key, value with key.lower\n",
    "        key = key.lower()\n",
    "        del self.data[key]\n",
    "   \n",
    "    def __update__(self, *args, **kwargs): # ensures that update envokes setitem\n",
    "        for key, value in dict(*args, **kwargs).items():\n",
    "            self[key] = value\n",
    "    \n",
    "hi = CaseInsensitiveDict({'Hi': 'There'})\n",
    "hi.update({'SEE You':'Later'})\n",
    "print(hi)\n",
    "print(hi['HI'])\n",
    "print(hi['See YOU'])\n"
   ]
  },
  {
   "cell_type": "markdown",
   "metadata": {},
   "source": [
    "### Exercise 4: Sorting a Custom Sequence\n",
    "Using the `Deck` class, add a method to shuffle the deck and another to sort it. Sorting should be based on rank first (`Ace`, `2`, ..., `King`) and suit (`Clubs`, `Diamonds`, `Hearts`, `Spades`).\n",
    "\n",
    "**Learning Objective:** Learn to sort custom objects using `sorted` and `key`."
   ]
  },
  {
   "cell_type": "code",
   "execution_count": 236,
   "metadata": {},
   "outputs": [
    {
     "name": "stdout",
     "output_type": "stream",
     "text": [
      "Deck with 5 cards: King of Diamonds, Five of Hearts, Eight of Diamonds, Five of Spades, Three of Spades\n",
      "Deck with 5 cards: Five of Hearts, Eight of Diamonds, Five of Spades, Three of Spades, King of Diamonds\n",
      "Deck with 5 cards: Eight of Diamonds, King of Diamonds, Five of Hearts, Three of Spades, Five of Spades\n"
     ]
    }
   ],
   "source": [
    "import random\n",
    "\n",
    "rank_order = {'Two': 2, 'Three': 3, 'Four': 4, 'Five': 5, 'Six': 6,\n",
    "              'Seven': 7, 'Eight': 8, 'Nine': 9, 'Ten': 10,\n",
    "              'Jack': 11, 'Queen': 12, 'King': 13, 'Ace': 14}\n",
    "suit_order = {'Clubs': 0, 'Diamonds': 1, 'Hearts': 2, 'Spades': 3}\n",
    "\n",
    "def card_sort_key(card):\n",
    "    return [suit_order[card.suit], rank_order[card.rank]] # ensures cards grouped by suits before rank\n",
    "\n",
    "def shuffle_deck(self):\n",
    "    random.shuffle(self.cards)\n",
    "    \n",
    "def sort_deck(self):\n",
    "    self.cards = sorted(self.cards, key=card_sort_key)\n",
    "\n",
    "setattr(Deck, \"shuffle_deck\", shuffle_deck)\n",
    "setattr(Deck, \"sort_deck\", sort_deck)\n",
    "\n",
    "deck = Deck(5)\n",
    "print(deck)\n",
    "shuffle_deck(deck)\n",
    "print(deck)\n",
    "sort_deck(deck)\n",
    "print(deck)\n",
    "\n",
    "    "
   ]
  },
  {
   "cell_type": "markdown",
   "metadata": {},
   "source": [
    "\n",
    "### Exercise 5: Generating a Custom Subset of a Deck\n",
    "1. Write a function `generate_custom_deck` that:\n",
    "   - Takes two arguments: `ranks` (a list of ranks to include) and `suits` (a list of suits to include).\n",
    "   - Uses a **list comprehension** to generate a list of tuples `(rank, suit)` for the specified `ranks` and `suits`.\n",
    "\n",
    "2. From the generated tuples, use Python's slicing or random sampling to select a specific number of tuples (e.g., 20).\n",
    "\n",
    "3. Create a `Deck` object using the number of cards you selected, but make sure to display the **first `n` cards from your custom subset** using the `Deck` class's `__str__`.\n",
    "\n",
    "**Learning Objective:**\n",
    "- **List comprehensions** to generate the `(rank, suit)` tuples.\n",
    "- Slicing and sampling subsets of lists.\n",
    "- Using the existing `Deck` class without modifying its internal logic.\n"
   ]
  },
  {
   "cell_type": "code",
   "execution_count": 234,
   "metadata": {},
   "outputs": [
    {
     "data": {
      "text/plain": [
       "['Four of Diamonds',\n",
       " 'Two of Diamonds',\n",
       " 'Jack of Spades',\n",
       " 'Two of Hearts',\n",
       " 'Three of Diamonds',\n",
       " 'Four of Spades',\n",
       " 'Three of Hearts',\n",
       " 'Four of Hearts',\n",
       " 'Three of Spades',\n",
       " 'Jack of Hearts',\n",
       " 'Two of Spades',\n",
       " 'Jack of Diamonds']"
      ]
     },
     "execution_count": 234,
     "metadata": {},
     "output_type": "execute_result"
    }
   ],
   "source": [
    "def generate_custom_deck(ranks, suits, k=None):\n",
    "    custom_deck = [Card(suit, rank) for suit in suits for rank in ranks]\n",
    "    \n",
    "    if not ranks or not suits:\n",
    "        raise ValueError(f'Please include lists for both ranks and suits.')\n",
    "    \n",
    "    if k is None:\n",
    "        k = len(custom_deck)\n",
    "    \n",
    "    if k <= 0:\n",
    "        raise ValueError('You must specify a value for k larger than 0.')\n",
    "    \n",
    "    if len(custom_deck) < k:\n",
    "        raise ValueError(f\"Your deck has less than {k} cards.\")\n",
    "    \n",
    "    new_deck = Deck()\n",
    "    new_deck.cards = custom_deck\n",
    "    \n",
    "    return new_deck.random_card(k=k)\n",
    "\n",
    "\n",
    "generate_custom_deck(['Two', 'Three', 'Four','Jack'], suits=['Hearts', 'Spades','Diamonds'])\n",
    "# generate_custom_deck(['Two', 'Three', 'Four'], suits=['Hearts', 'Spades'], k=10) # ValueError: Your deck has less than 10 cards."
   ]
  },
  {
   "cell_type": "markdown",
   "metadata": {},
   "source": [
    "\n",
    "\n",
    "### Exercise 6: Analyzing a Shuffled Deck with defaultdict and Counter\n",
    "\n",
    "- Create and shuffle a deck of cards using your Deck class.\n",
    "- Use `collections.defaultdict` to group cards by their suit (e.g., all Hearts together, all Spades together).\n",
    "  - The result should be a dictionary where the key is the suit and the value is a list of cards belonging to that suit.\n",
    "- Use `collections.Counter` to count the number of cards for each suit in the shuffled deck.\n",
    "- Print the counts in a clear and readable format.\n",
    "- Add an additional step: Count the cards for each rank across the entire deck using Counter.\n",
    "\n",
    "**Learning Objectives:**\n",
    "- Deepen understanding of defaultdict by grouping cards dynamically based on their suit.\n",
    "- Practice using Counter to count occurrences of items in a collection.\n",
    "- Reinforce familiarity with iterating through collections and working with a shuffled deck of cards.\n"
   ]
  },
  {
   "cell_type": "code",
   "execution_count": 235,
   "metadata": {},
   "outputs": [
    {
     "name": "stdout",
     "output_type": "stream",
     "text": [
      "Your hand:\n",
      "Diamonds: Ten, King, Six, Seven, Queen, Three, Ace\n",
      "Clubs: Three, Ten, Five\n",
      "Hearts: Five, Three, Queen, King, Four\n",
      "Spades: Jack, Ace, Queen, Five, Four\n",
      "\n",
      "Suit counts: \n",
      "Diamonds: 7\n",
      "Clubs: 3\n",
      "Hearts: 5\n",
      "Spades: 5\n",
      "\n",
      "Rank counts: \n",
      "Ten: 2\n",
      "Three: 3\n",
      "Five: 3\n",
      "King: 2\n",
      "Six: 1\n",
      "Jack: 1\n",
      "Seven: 1\n",
      "Queen: 3\n",
      "Ace: 2\n",
      "Four: 2\n"
     ]
    }
   ],
   "source": [
    "from collections import defaultdict, Counter\n",
    "\n",
    "def analyze_deck(number=None):\n",
    "    \n",
    "    if number is None:\n",
    "        raise ValueError('You must specify a value between 1 and 52.')\n",
    "    \n",
    "    deck = Deck()\n",
    "    shuffle_deck(deck)\n",
    "    \n",
    "    deck = deck[:number]\n",
    "    \n",
    "    deck_dict = defaultdict(list)\n",
    "    for card in deck:\n",
    "        deck_dict[card.suit].append(card.rank)\n",
    "        \n",
    "    suit_counts = Counter(card.suit for card in deck)\n",
    "    rank_counts = Counter(card.rank for card in deck)\n",
    "    \n",
    "    analysis = \"\\n\".join(f'{suit}: {\", \".join(deck_dict[suit])}' for suit in deck_dict)\n",
    "    print(\"Your hand:\\n\" + analysis + \"\\n\")\n",
    "    print(\"Suit counts: \")\n",
    "    for suit, count in suit_counts.items():\n",
    "        print(f'{suit}: {count}')\n",
    "    print(\"\\nRank counts: \")\n",
    "    for rank, count in rank_counts.items():\n",
    "        print(f'{rank}: {count}')\n",
    "        \n",
    "analyze_deck(number=20)\n",
    "    \n",
    "    \n",
    "    \n",
    "    "
   ]
  }
 ],
 "metadata": {
  "kernelspec": {
   "display_name": "pyten",
   "language": "python",
   "name": "python3"
  },
  "language_info": {
   "codemirror_mode": {
    "name": "ipython",
    "version": 3
   },
   "file_extension": ".py",
   "mimetype": "text/x-python",
   "name": "python",
   "nbconvert_exporter": "python",
   "pygments_lexer": "ipython3",
   "version": "3.10.13"
  }
 },
 "nbformat": 4,
 "nbformat_minor": 2
}
