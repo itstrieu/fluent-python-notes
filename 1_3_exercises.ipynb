{
 "cells": [
  {
   "cell_type": "markdown",
   "metadata": {},
   "source": [
    "### Exercise 1: Understanding `__repr__` and `__str__`\n",
    "Write a class called `Card` representing a playing card with a rank (e.g., 'Ace', '2', '3', ...) and suit (e.g., 'Hearts', 'Clubs'). Implement the `__repr__` and `__str__` methods so:\n",
    "- `__repr__` gives a formal string like `Card('Ace', 'Hearts')`.\n",
    "- `__str__` gives a user-friendly string like `'Ace of Hearts'`.\n",
    "\n",
    "**Learning Objective:** Understanding the difference between `__repr__` and `__str__`."
   ]
  },
  {
   "cell_type": "code",
   "execution_count": 38,
   "metadata": {},
   "outputs": [
    {
     "name": "stdout",
     "output_type": "stream",
     "text": [
      "Four of Hearts\n",
      "Card(Four, Hearts)\n",
      "[Card(Two, Spades), Card(Three, Spades), Card(Four, Spades), Card(Five, Spades), Card(Six, Spades), Card(Seven, Spades), Card(Eight, Spades), Card(Nine, Spades), Card(Ten, Spades), Card(Jack, Spades)]\n",
      "['Two of Spades', 'Three of Spades', 'Four of Spades', 'Five of Spades', 'Six of Spades', 'Seven of Spades', 'Eight of Spades', 'Nine of Spades', 'Ten of Spades', 'Jack of Spades']\n"
     ]
    }
   ],
   "source": [
    "class Card:\n",
    "    def __init__(self, suit='Spades', rank='Ace'):\n",
    "        self.suit = suit\n",
    "        self.rank = rank\n",
    "    \n",
    "    def __repr__(self):\n",
    "        return f'Card({self.rank}, {self.suit})'\n",
    "    \n",
    "    def __str__(self):\n",
    "        return f'{self.rank} of {self.suit}'\n",
    "    \n",
    "card = Card('Hearts', rank='Four')\n",
    "print(card) # Four of Hearts\n",
    "print(repr(card)) # Card('Four','Hearts)\n",
    "\n",
    "suits = ['Spades', 'Clovers', 'Hearts', 'Diamonds']\n",
    "ranks = ['Two', 'Three', 'Four', 'Five', 'Six', 'Seven', 'Eight', 'Nine', 'Ten', 'Jack', 'Queen', 'King', 'Ace']\n",
    "deck = [Card(suit, rank) for suit in suits for rank in ranks]\n",
    "\n",
    "print(deck[:10])\n",
    "print([str(card) for card in deck[:10]])\n",
    "    "
   ]
  },
  {
   "cell_type": "markdown",
   "metadata": {},
   "source": [
    "\n",
    "### Exercise 2: Slicing and Indexing\n",
    "Create a class `Deck` that uses a list to store 52 `Card` objects. Implement:\n",
    "1. `__getitem__` to allow slicing (e.g., `deck[:3]` should return the first 3 cards).\n",
    "2. `__len__` to return the number of cards in the deck.\n",
    "\n",
    "**Learning Objective:** Practice customizing data access with Python's special methods.\n"
   ]
  },
  {
   "cell_type": "code",
   "execution_count": 65,
   "metadata": {},
   "outputs": [
    {
     "name": "stdout",
     "output_type": "stream",
     "text": [
      "In your hand, you have: not enough cards\n",
      "In your hand, you have: ['Ace of Hearts', 'Two of Clubs', 'King of Spades', 'King of Hearts', 'Ten of Clubs']\n"
     ]
    }
   ],
   "source": [
    "from random import sample\n",
    "\n",
    "class Deck:\n",
    "    suits = ['Spades', 'Clubs', 'Hearts', 'Diamonds']\n",
    "    ranks = ['Two', 'Three', 'Four', 'Five', 'Six', 'Seven', 'Eight', 'Nine', 'Ten', 'Jack', 'Queen', 'King', 'Ace']\n",
    "\n",
    "    def __init__(self, number=52):\n",
    "        self._cards: list[Card] = [Card(suit, rank) for suit in self.suits for rank in self.ranks][:number]\n",
    "        self.number = number\n",
    "    \n",
    "    def __len__(self):\n",
    "        return len(self._cards)\n",
    "    \n",
    "    def __getitem__(self, position):\n",
    "        return self._cards[position]\n",
    "    \n",
    "    def random_card(self, k):\n",
    "        if k > self.number:\n",
    "            return ValueError('not enough cards')\n",
    "        return [str(card) for card in sample(self._cards, k=k)]\n",
    "    \n",
    "    def __str__(self):\n",
    "        return f\"Deck with {len(self._cards)} cards: {', '.join(str(card) for card in self._cards[:self.number])}\"\n",
    "\n",
    "deck = Deck(2)\n",
    "print(f'In your hand, you have: {deck.random_card(5)}') # In your hand, you have: not enough cards\n",
    "\n",
    "deck = Deck()\n",
    "print(f'In your hand, you have: {deck.random_card(5)}')\n"
   ]
  },
  {
   "cell_type": "markdown",
   "metadata": {},
   "source": [
    "### Exercise 3: Customizing `dict`\n",
    "Write a custom dictionary class `CaseInsensitiveDict` that inherits from `dict`. Override the necessary methods to make key access case-insensitive. For example:\n",
    "```python\n",
    "d = CaseInsensitiveDict({'Key': 'value'})\n",
    "assert d['key'] == 'value'\n",
    "```\n",
    "\n",
    "**Learning Objective:** Understanding how to customize dictionary behavior"
   ]
  },
  {
   "cell_type": "code",
   "execution_count": 40,
   "metadata": {},
   "outputs": [
    {
     "name": "stdout",
     "output_type": "stream",
     "text": [
      "{'hi': 'There', 'see you': 'Later'}\n",
      "There\n",
      "Later\n"
     ]
    }
   ],
   "source": [
    "import collections\n",
    "\n",
    "class CaseInsensitiveDict(collections.UserDict): # It's preferable to subclass from UserDict\n",
    "    def __setitem__(self, key, value): # ensures key.lower when key, value added to dict\n",
    "        key = key.lower()\n",
    "        self.data[key] = value\n",
    "    \n",
    "    def __getitem__(self, key): # retrieves value with key.lower\n",
    "       key = key.lower()\n",
    "       return self.data[key]\n",
    "   \n",
    "    def __delitem__(self, key): # deletes key, value with key.lower\n",
    "        key = key.lower()\n",
    "        del self.data[key]\n",
    "   \n",
    "    def __update__(self, *args, **kwargs): # ensures that update envokes setitem\n",
    "        for key, value in dict(*args, **kwargs).items():\n",
    "            self[key] = value\n",
    "    \n",
    "hi = CaseInsensitiveDict({'Hi': 'There'})\n",
    "hi.update({'SEE You':'Later'})\n",
    "print(hi)\n",
    "print(hi['HI'])\n",
    "print(hi['See YOU'])\n"
   ]
  },
  {
   "cell_type": "markdown",
   "metadata": {},
   "source": [
    "### Exercise 4: Sorting a Custom Sequence\n",
    "Using the `Deck` class, add a method to shuffle the deck and another to sort it. Sorting should be based on rank first (`Ace`, `2`, ..., `King`) and suit (`Clubs`, `Diamonds`, `Hearts`, `Spades`).\n",
    "\n",
    "**Learning Objective:** Learn to sort custom objects using `sorted` and `key`."
   ]
  },
  {
   "cell_type": "code",
   "execution_count": 75,
   "metadata": {},
   "outputs": [
    {
     "name": "stdout",
     "output_type": "stream",
     "text": [
      "Deck with 52 cards: Two of Spades, Three of Spades, Four of Spades, Five of Spades, Six of Spades, Seven of Spades, Eight of Spades, Nine of Spades, Ten of Spades, Jack of Spades, Queen of Spades, King of Spades, Ace of Spades, Two of Clubs, Three of Clubs, Four of Clubs, Five of Clubs, Six of Clubs, Seven of Clubs, Eight of Clubs, Nine of Clubs, Ten of Clubs, Jack of Clubs, Queen of Clubs, King of Clubs, Ace of Clubs, Two of Hearts, Three of Hearts, Four of Hearts, Five of Hearts, Six of Hearts, Seven of Hearts, Eight of Hearts, Nine of Hearts, Ten of Hearts, Jack of Hearts, Queen of Hearts, King of Hearts, Ace of Hearts, Two of Diamonds, Three of Diamonds, Four of Diamonds, Five of Diamonds, Six of Diamonds, Seven of Diamonds, Eight of Diamonds, Nine of Diamonds, Ten of Diamonds, Jack of Diamonds, Queen of Diamonds, King of Diamonds, Ace of Diamonds\n",
      "Deck with 52 cards: Six of Clubs, Three of Hearts, Queen of Diamonds, Ten of Diamonds, Seven of Spades, Five of Clubs, Seven of Clubs, Three of Spades, Ace of Spades, Eight of Diamonds, Ace of Clubs, Five of Spades, Ten of Clubs, Four of Spades, Jack of Clubs, Nine of Spades, Seven of Hearts, Five of Hearts, Ace of Hearts, Nine of Diamonds, Eight of Clubs, Two of Hearts, Queen of Hearts, Jack of Spades, Two of Clubs, Queen of Clubs, Queen of Spades, Two of Spades, Seven of Diamonds, Three of Clubs, Six of Spades, Four of Clubs, King of Hearts, Nine of Hearts, Four of Diamonds, Five of Diamonds, Six of Diamonds, Jack of Diamonds, King of Diamonds, Nine of Clubs, Two of Diamonds, Ten of Spades, King of Spades, Ace of Diamonds, Six of Hearts, Eight of Hearts, Eight of Spades, King of Clubs, Three of Diamonds, Ten of Hearts, Jack of Hearts, Four of Hearts\n",
      "Deck with 52 cards: Two of Clubs, Three of Clubs, Four of Clubs, Five of Clubs, Six of Clubs, Seven of Clubs, Eight of Clubs, Nine of Clubs, Ten of Clubs, Jack of Clubs, Queen of Clubs, King of Clubs, Ace of Clubs, Two of Diamonds, Three of Diamonds, Four of Diamonds, Five of Diamonds, Six of Diamonds, Seven of Diamonds, Eight of Diamonds, Nine of Diamonds, Ten of Diamonds, Jack of Diamonds, Queen of Diamonds, King of Diamonds, Ace of Diamonds, Two of Hearts, Three of Hearts, Four of Hearts, Five of Hearts, Six of Hearts, Seven of Hearts, Eight of Hearts, Nine of Hearts, Ten of Hearts, Jack of Hearts, Queen of Hearts, King of Hearts, Ace of Hearts, Two of Spades, Three of Spades, Four of Spades, Five of Spades, Six of Spades, Seven of Spades, Eight of Spades, Nine of Spades, Ten of Spades, Jack of Spades, Queen of Spades, King of Spades, Ace of Spades\n"
     ]
    }
   ],
   "source": [
    "import random\n",
    "\n",
    "rank_order = {'Two': 2, 'Three': 3, 'Four': 4, 'Five': 5, 'Six': 6,\n",
    "              'Seven': 7, 'Eight': 8, 'Nine': 9, 'Ten': 10,\n",
    "              'Jack': 11, 'Queen': 12, 'King': 13, 'Ace': 14}\n",
    "suit_order = {'Clubs': 0, 'Diamonds': 1, 'Hearts': 2, 'Spades': 3}\n",
    "\n",
    "def card_sort_key(card):\n",
    "    return [suit_order[card.suit], rank_order[card.rank]] # ensures cards grouped by suits before rank\n",
    "\n",
    "def shuffle_deck(self):\n",
    "    random.shuffle(self._cards)\n",
    "    \n",
    "def sort_deck(self):\n",
    "    self._cards = sorted(self._cards, key=card_sort_key)\n",
    "\n",
    "setattr(Deck, \"shuffle_deck\", shuffle_deck)\n",
    "setattr(Deck, \"sort_deck\", sort_deck)\n",
    "\n",
    "deck = Deck()\n",
    "print(deck)\n",
    "shuffle_deck(deck)\n",
    "print(deck)\n",
    "sort_deck(deck)\n",
    "print(deck)\n",
    "\n",
    "    "
   ]
  },
  {
   "cell_type": "markdown",
   "metadata": {},
   "source": [
    "\n",
    "\n",
    "### Exercise 5: List Comprehensions with Tuples\n",
    "Using a list comprehension, create a list of tuples representing a Cartesian product of ranks and suits. Then, convert this into a `Deck` object.\n",
    "\n",
    "**Learning Objective:** Practice list comprehensions and constructing objects.\n",
    "\n",
    "---\n",
    "\n",
    "### Exercise 6: Exploring `defaultdict` and `Counter`\n",
    "Use `collections.defaultdict` and `collections.Counter` to analyze the suits in a shuffled deck. For example, count how many cards belong to each suit.\n",
    "\n",
    "**Learning Objective:** Deepen understanding of Python's collections module.\n",
    "\n"
   ]
  }
 ],
 "metadata": {
  "kernelspec": {
   "display_name": "pyten",
   "language": "python",
   "name": "python3"
  },
  "language_info": {
   "codemirror_mode": {
    "name": "ipython",
    "version": 3
   },
   "file_extension": ".py",
   "mimetype": "text/x-python",
   "name": "python",
   "nbconvert_exporter": "python",
   "pygments_lexer": "ipython3",
   "version": "3.10.13"
  }
 },
 "nbformat": 4,
 "nbformat_minor": 2
}
