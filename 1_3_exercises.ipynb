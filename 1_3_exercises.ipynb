{
 "cells": [
  {
   "cell_type": "markdown",
   "metadata": {},
   "source": [
    "### Exercise 1: Understanding `__repr__` and `__str__`\n",
    "Write a class called `Card` representing a playing card with a rank (e.g., 'Ace', '2', '3', ...) and suit (e.g., 'Hearts', 'Clubs'). Implement the `__repr__` and `__str__` methods so:\n",
    "- `__repr__` gives a formal string like `Card('Ace', 'Hearts')`.\n",
    "- `__str__` gives a user-friendly string like `'Ace of Hearts'`.\n",
    "\n",
    "**Learning Objective:** Understanding the difference between `__repr__` and `__str__`."
   ]
  },
  {
   "cell_type": "code",
   "execution_count": 20,
   "metadata": {},
   "outputs": [
    {
     "name": "stdout",
     "output_type": "stream",
     "text": [
      "Four of Hearts\n",
      "Card(Four, Hearts)\n",
      "[Card(Two, Spades), Card(Three, Spades), Card(Four, Spades), Card(Five, Spades), Card(Six, Spades), Card(Seven, Spades), Card(Eight, Spades), Card(Nine, Spades), Card(Ten, Spades), Card(Jack, Spades)]\n",
      "['Two of Spades', 'Three of Spades', 'Four of Spades', 'Five of Spades', 'Six of Spades', 'Seven of Spades', 'Eight of Spades', 'Nine of Spades', 'Ten of Spades', 'Jack of Spades']\n"
     ]
    }
   ],
   "source": [
    "class Card:\n",
    "    def __init__(self, suit='Spades', rank='Ace'):\n",
    "        self.suit = suit\n",
    "        self.rank = rank\n",
    "    \n",
    "    def __repr__(self):\n",
    "        return f'Card({self.rank}, {self.suit})'\n",
    "    \n",
    "    def __str__(self):\n",
    "        return f'{self.rank} of {self.suit}'\n",
    "    \n",
    "card = Card('Hearts', rank='Four')\n",
    "print(card) # Four of Hearts\n",
    "print(repr(card)) # Card('Four','Hearts)\n",
    "\n",
    "suits = ['Spades', 'Clovers', 'Hearts', 'Diamonds']\n",
    "ranks = ['Two', 'Three', 'Four', 'Five', 'Six', 'Seven', 'Eight', 'Nine', 'Ten', 'Jack', 'Queen', 'King', 'Ace']\n",
    "deck = [Card(suit, rank) for suit in suits for rank in ranks]\n",
    "\n",
    "print(deck[:10])\n",
    "print([str(card) for card in deck[:10]])\n",
    "    "
   ]
  },
  {
   "cell_type": "markdown",
   "metadata": {},
   "source": [
    "\n",
    "### Exercise 2: Slicing and Indexing\n",
    "Create a class `Deck` that uses a list to store 52 `Card` objects. Implement:\n",
    "1. `__getitem__` to allow slicing (e.g., `deck[:3]` should return the first 3 cards).\n",
    "2. `__len__` to return the number of cards in the deck.\n",
    "\n",
    "**Learning Objective:** Practice customizing data access with Python's special methods.\n"
   ]
  },
  {
   "cell_type": "code",
   "execution_count": 22,
   "metadata": {},
   "outputs": [
    {
     "name": "stdout",
     "output_type": "stream",
     "text": [
      "In your hand, you have ['Six of Clovers', 'Three of Diamonds', 'Eight of Diamonds', 'Six of Clovers', 'Queen of Diamonds']\n"
     ]
    }
   ],
   "source": [
    "from random import choice\n",
    "\n",
    "class Deck:\n",
    "    suits = ['Spades', 'Clovers', 'Hearts', 'Diamonds']\n",
    "    ranks = ['Two', 'Three', 'Four', 'Five', 'Six', 'Seven', 'Eight', 'Nine', 'Ten', 'Jack', 'Queen', 'King', 'Ace']\n",
    "\n",
    "    def __init__(self):\n",
    "        self._cards: list[Card] = [Card(suit, rank) for suit in self.suits for rank in self.ranks]\n",
    "    \n",
    "    def __len__(self):\n",
    "        return len(self._cards)\n",
    "    \n",
    "    def __getitem__(self, position):\n",
    "        return self._cards[position]\n",
    "    \n",
    "    def random_card(self):\n",
    "        return choice(self._cards)\n",
    "    \n",
    "deck = Deck()\n",
    "print(f'In your hand, you have {[str(deck.random_card()) for i in range(5)]}')\n"
   ]
  },
  {
   "cell_type": "markdown",
   "metadata": {},
   "source": [
    "\n",
    "\n",
    "### Exercise 3: Customizing `dict`\n",
    "Write a custom dictionary class `CaseInsensitiveDict` that inherits from `dict`. Override the necessary methods to make key access case-insensitive. For example:\n",
    "```python\n",
    "d = CaseInsensitiveDict({'Key': 'value'})\n",
    "assert d['key'] == 'value'\n",
    "```\n",
    "\n",
    "**Learning Objective:** Understanding how to customize dictionary behavior.\n",
    "\n",
    "---\n",
    "\n",
    "### Exercise 4: Sorting a Custom Sequence\n",
    "Using the `Deck` class, add a method to shuffle the deck and another to sort it. Sorting should be based on rank first (`Ace`, `2`, ..., `King`) and suit (`Clubs`, `Diamonds`, `Hearts`, `Spades`).\n",
    "\n",
    "**Learning Objective:** Learn to sort custom objects using `sorted` and `key`.\n",
    "\n",
    "---\n",
    "\n",
    "### Exercise 5: List Comprehensions with Tuples\n",
    "Using a list comprehension, create a list of tuples representing a Cartesian product of ranks and suits. Then, convert this into a `Deck` object.\n",
    "\n",
    "**Learning Objective:** Practice list comprehensions and constructing objects.\n",
    "\n",
    "---\n",
    "\n",
    "### Exercise 6: Exploring `defaultdict` and `Counter`\n",
    "Use `collections.defaultdict` and `collections.Counter` to analyze the suits in a shuffled deck. For example, count how many cards belong to each suit.\n",
    "\n",
    "**Learning Objective:** Deepen understanding of Python's collections module.\n",
    "\n"
   ]
  }
 ],
 "metadata": {
  "kernelspec": {
   "display_name": "pyten",
   "language": "python",
   "name": "python3"
  },
  "language_info": {
   "codemirror_mode": {
    "name": "ipython",
    "version": 3
   },
   "file_extension": ".py",
   "mimetype": "text/x-python",
   "name": "python",
   "nbconvert_exporter": "python",
   "pygments_lexer": "ipython3",
   "version": "3.10.13"
  }
 },
 "nbformat": 4,
 "nbformat_minor": 2
}
