{
 "cells": [
  {
   "cell_type": "code",
   "execution_count": 10,
   "metadata": {},
   "outputs": [],
   "source": [
    "import collections\n",
    "from random import choice\n",
    "\n",
    "Card = collections.namedtuple('Card', ['rank','suit'])\n",
    "\n",
    "\n",
    "class FrenchDeck:\n",
    "    ranks = [str(n) for n in range(2, 11)] + list('JQKA')\n",
    "    suits = 'spades diamonds clubs hearts'.split()\n",
    "\n",
    "    def __init__(self):\n",
    "        self._cards = [Card(rank, suit) for suit in self.suits\n",
    "                                       for rank in self.ranks]\n",
    "    \n",
    "    def __len__(self):\n",
    "        return len(self._cards)\n",
    "    \n",
    "    def __getitem__(self, position):\n",
    "        return self._cards[position]\n",
    "    \n",
    "    def random_card(self):\n",
    "        return choice(self._cards)\n",
    "\n",
    "# Note: this FrenchDeck is immutable, because it only has __getitem__ and __len__ methods"
   ]
  },
  {
   "cell_type": "code",
   "execution_count": null,
   "metadata": {},
   "outputs": [],
   "source": [
    "# list comprehension examples\n",
    "[str(n) for n in range(2, 11)] + list('JQKA')\n",
    "[Card(rank, suit) for suit in FrenchDeck.suits for rank in FrenchDeck.ranks]"
   ]
  },
  {
   "cell_type": "code",
   "execution_count": null,
   "metadata": {},
   "outputs": [],
   "source": [
    "# __getitem__ example\n",
    "deck = FrenchDeck()\n",
    "print(f'Select index 5: {deck[5]}')\n",
    "\n",
    "# benefits of implementing the __getitem__ method\n",
    "print(f'Retrieve the first 3 cards: {deck[:3]}') # slicing\n",
    "print(f'Pick cards by rank: {deck[12::13]}') # picking cards by rank\n",
    "\n",
    "for card in deck: # iterting over the deck\n",
    "    print(card)"
   ]
  },
  {
   "cell_type": "code",
   "execution_count": null,
   "metadata": {},
   "outputs": [],
   "source": [
    "# random_choice example\n",
    "print(deck.random_card())"
   ]
  },
  {
   "cell_type": "code",
   "execution_count": 22,
   "metadata": {},
   "outputs": [
    {
     "name": "stdout",
     "output_type": "stream",
     "text": [
      "Sorted cards:  [Card(rank='2', suit='clubs'), Card(rank='2', suit='diamonds'), Card(rank='2', suit='hearts'), Card(rank='2', suit='spades'), Card(rank='3', suit='clubs'), Card(rank='3', suit='diamonds'), Card(rank='3', suit='hearts'), Card(rank='3', suit='spades'), Card(rank='4', suit='clubs'), Card(rank='4', suit='diamonds'), Card(rank='4', suit='hearts'), Card(rank='4', suit='spades'), Card(rank='5', suit='clubs'), Card(rank='5', suit='diamonds'), Card(rank='5', suit='hearts'), Card(rank='5', suit='spades'), Card(rank='6', suit='clubs'), Card(rank='6', suit='diamonds'), Card(rank='6', suit='hearts'), Card(rank='6', suit='spades'), Card(rank='7', suit='clubs'), Card(rank='7', suit='diamonds'), Card(rank='7', suit='hearts'), Card(rank='7', suit='spades'), Card(rank='8', suit='clubs'), Card(rank='8', suit='diamonds'), Card(rank='8', suit='hearts'), Card(rank='8', suit='spades'), Card(rank='9', suit='clubs'), Card(rank='9', suit='diamonds'), Card(rank='9', suit='hearts'), Card(rank='9', suit='spades'), Card(rank='10', suit='clubs'), Card(rank='10', suit='diamonds'), Card(rank='10', suit='hearts'), Card(rank='10', suit='spades'), Card(rank='J', suit='clubs'), Card(rank='J', suit='diamonds'), Card(rank='J', suit='hearts'), Card(rank='J', suit='spades'), Card(rank='Q', suit='clubs'), Card(rank='Q', suit='diamonds'), Card(rank='Q', suit='hearts'), Card(rank='Q', suit='spades'), Card(rank='K', suit='clubs'), Card(rank='K', suit='diamonds'), Card(rank='K', suit='hearts'), Card(rank='K', suit='spades'), Card(rank='A', suit='clubs'), Card(rank='A', suit='diamonds'), Card(rank='A', suit='hearts'), Card(rank='A', suit='spades')]\n"
     ]
    }
   ],
   "source": [
    "# ranking and sorting the cards\n",
    "suit_values = dict(spades=3, hearts=2, diamonds=1, clubs=0)\n",
    "def spades_high(card):\n",
    "    rank_value = FrenchDeck.ranks.index(card.rank) # get the index of the card rank 0, 1, 2, 3, 4, 5, 6, 7, 8, 9, 10, J, Q, K, A\n",
    "    return rank_value * len(suit_values) + suit_values[card.suit] # multiply the rank value by the length of the suit values and add the suit value ex. 0 * 4 + 3 = 3\n",
    "\n",
    "print(\"Sorted cards: \", [card for card in sorted(deck, key=spades_high)])"
   ]
  },
  {
   "cell_type": "code",
   "execution_count": null,
   "metadata": {},
   "outputs": [],
   "source": [
    "from math import hypot\n",
    "\n",
    "class Vector:\n",
    "    def __init__(self, x=0, y=0):\n",
    "        self.x = x\n",
    "        self.y = y\n",
    "        \n",
    "    def __repr__(self):\n",
    "        return f'Vector({self.x}, {self.y})'\n",
    "    \n",
    "    def __abs__(self):\n",
    "        return hypot(self.x, self.y)\n",
    "    \n",
    "    def __bool__(self):\n",
    "        return bool(abs(self))\n",
    "    \n",
    "    def __add__(self, other):\n",
    "        x = self.x + other.x\n",
    "        y = self.y +other.y\n",
    "        return Vector(x, y=y)\n",
    "    \n",
    "    def __mul__(self, scalar):\n",
    "        return Vector(self.x * scalar, self.y * scalar)\n",
    "    \n",
    "    \n",
    "    \n",
    "    "
   ]
  },
  {
   "cell_type": "code",
   "execution_count": null,
   "metadata": {},
   "outputs": [],
   "source": [
    "# Sequences in Python"
   ]
  },
  {
   "cell_type": "code",
   "execution_count": null,
   "metadata": {},
   "outputs": [],
   "source": [
    "# List Comprehensions and Generator Expressions"
   ]
  },
  {
   "cell_type": "code",
   "execution_count": null,
   "metadata": {},
   "outputs": [],
   "source": [
    "# Tuples: Immutable? Yes, but only on the surface\n",
    "# Tuple Unpacking\n",
    "# parallel assignment - assigning items from an iterable to a tuple of variables, useful for swapping values of variables without a temporary variable\n",
    "# Using * to grab excess items or when calling a function\n",
    "\n",
    "\n"
   ]
  },
  {
   "cell_type": "code",
   "execution_count": null,
   "metadata": {},
   "outputs": [],
   "source": [
    "# The Named Tuple\n",
    "# The collections.namedtuple function is a factory that produces subclasses of tuple enhanced with field names and a class name\n",
    "# IMPORTANT: Instances of a class that you build with namedtuple takes exactly the SAME amount of memory as tuples because the field names are stored in the class, not the instance\n",
    "# They use less memory than a regular object because they don't store attributes in a per-instance __dict__ dictionary\n",
    "\n",
    "from collections import namedtuple\n",
    "City = namedtuple('City', 'name country population coordinates')\n",
    "tokyo = City('Tokyo', 'JP', 36.933, (35.689722, 139.691667))\n",
    "\n",
    "# _fields is a useful attribute while _make() and _asdict() are useful class methods\n"
   ]
  },
  {
   "cell_type": "code",
   "execution_count": null,
   "metadata": {},
   "outputs": [],
   "source": [
    "# Slicing\n"
   ]
  }
 ],
 "metadata": {
  "kernelspec": {
   "display_name": "pyten",
   "language": "python",
   "name": "python3"
  },
  "language_info": {
   "codemirror_mode": {
    "name": "ipython",
    "version": 3
   },
   "file_extension": ".py",
   "mimetype": "text/x-python",
   "name": "python",
   "nbconvert_exporter": "python",
   "pygments_lexer": "ipython3",
   "version": "3.10.13"
  }
 },
 "nbformat": 4,
 "nbformat_minor": 2
}
