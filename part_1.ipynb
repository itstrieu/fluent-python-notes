{
 "cells": [
  {
   "cell_type": "code",
   "execution_count": 10,
   "metadata": {},
   "outputs": [],
   "source": [
    "import collections\n",
    "from random import choice\n",
    "\n",
    "Card = collections.namedtuple('Card', ['rank','suit'])\n",
    "\n",
    "\n",
    "class FrenchDeck:\n",
    "    ranks = [str(n) for n in range(2, 11)] + list('JQKA')\n",
    "    suits = 'spades diamonds clubs hearts'.split()\n",
    "\n",
    "    def __init__(self):\n",
    "        self._cards = [Card(rank, suit) for suit in self.suits\n",
    "                                       for rank in self.ranks]\n",
    "    \n",
    "    def __len__(self):\n",
    "        return len(self._cards)\n",
    "    \n",
    "    def __getitem__(self, position):\n",
    "        return self._cards[position]\n",
    "    \n",
    "    def random_card(self):\n",
    "        return choice(self._cards)\n",
    "\n",
    "# Note: this FrenchDeck is immutable, because it only has __getitem__ and __len__ methods"
   ]
  },
  {
   "cell_type": "code",
   "execution_count": null,
   "metadata": {},
   "outputs": [],
   "source": [
    "# list comprehension examples\n",
    "[str(n) for n in range(2, 11)] + list('JQKA')\n",
    "[Card(rank, suit) for suit in FrenchDeck.suits for rank in FrenchDeck.ranks]"
   ]
  },
  {
   "cell_type": "code",
   "execution_count": null,
   "metadata": {},
   "outputs": [],
   "source": [
    "# __getitem__ example\n",
    "deck = FrenchDeck()\n",
    "print(f'Select index 5: {deck[5]}')\n",
    "\n",
    "# benefits of implementing the __getitem__ method\n",
    "print(f'Retrieve the first 3 cards: {deck[:3]}') # slicing\n",
    "print(f'Pick cards by rank: {deck[12::13]}') # picking cards by rank\n",
    "\n",
    "for card in deck: # iterting over the deck\n",
    "    print(card)"
   ]
  },
  {
   "cell_type": "code",
   "execution_count": null,
   "metadata": {},
   "outputs": [],
   "source": [
    "# random_choice example\n",
    "print(deck.random_card())"
   ]
  },
  {
   "cell_type": "code",
   "execution_count": 22,
   "metadata": {},
   "outputs": [
    {
     "name": "stdout",
     "output_type": "stream",
     "text": [
      "Sorted cards:  [Card(rank='2', suit='clubs'), Card(rank='2', suit='diamonds'), Card(rank='2', suit='hearts'), Card(rank='2', suit='spades'), Card(rank='3', suit='clubs'), Card(rank='3', suit='diamonds'), Card(rank='3', suit='hearts'), Card(rank='3', suit='spades'), Card(rank='4', suit='clubs'), Card(rank='4', suit='diamonds'), Card(rank='4', suit='hearts'), Card(rank='4', suit='spades'), Card(rank='5', suit='clubs'), Card(rank='5', suit='diamonds'), Card(rank='5', suit='hearts'), Card(rank='5', suit='spades'), Card(rank='6', suit='clubs'), Card(rank='6', suit='diamonds'), Card(rank='6', suit='hearts'), Card(rank='6', suit='spades'), Card(rank='7', suit='clubs'), Card(rank='7', suit='diamonds'), Card(rank='7', suit='hearts'), Card(rank='7', suit='spades'), Card(rank='8', suit='clubs'), Card(rank='8', suit='diamonds'), Card(rank='8', suit='hearts'), Card(rank='8', suit='spades'), Card(rank='9', suit='clubs'), Card(rank='9', suit='diamonds'), Card(rank='9', suit='hearts'), Card(rank='9', suit='spades'), Card(rank='10', suit='clubs'), Card(rank='10', suit='diamonds'), Card(rank='10', suit='hearts'), Card(rank='10', suit='spades'), Card(rank='J', suit='clubs'), Card(rank='J', suit='diamonds'), Card(rank='J', suit='hearts'), Card(rank='J', suit='spades'), Card(rank='Q', suit='clubs'), Card(rank='Q', suit='diamonds'), Card(rank='Q', suit='hearts'), Card(rank='Q', suit='spades'), Card(rank='K', suit='clubs'), Card(rank='K', suit='diamonds'), Card(rank='K', suit='hearts'), Card(rank='K', suit='spades'), Card(rank='A', suit='clubs'), Card(rank='A', suit='diamonds'), Card(rank='A', suit='hearts'), Card(rank='A', suit='spades')]\n"
     ]
    }
   ],
   "source": [
    "# ranking and sorting the cards\n",
    "suit_values = dict(spades=3, hearts=2, diamonds=1, clubs=0)\n",
    "def spades_high(card):\n",
    "    rank_value = FrenchDeck.ranks.index(card.rank) # get the index of the card rank 0, 1, 2, 3, 4, 5, 6, 7, 8, 9, 10, J, Q, K, A\n",
    "    return rank_value * len(suit_values) + suit_values[card.suit] # multiply the rank value by the length of the suit values and add the suit value ex. 0 * 4 + 3 = 3\n",
    "\n",
    "print(\"Sorted cards: \", [card for card in sorted(deck, key=spades_high)])"
   ]
  },
  {
   "cell_type": "code",
   "execution_count": null,
   "metadata": {},
   "outputs": [],
   "source": [
    "from math import hypot\n",
    "\n",
    "class Vector:\n",
    "    def __init__(self, x=0, y=0):\n",
    "        self.x = x\n",
    "        self.y = y\n",
    "        \n",
    "    def __repr__(self):\n",
    "        return f'Vector({self.x}, {self.y})'\n",
    "    \n",
    "    def __abs__(self):\n",
    "        return hypot(self.x, self.y)\n",
    "    \n",
    "    def __bool__(self):\n",
    "        return bool(abs(self))\n",
    "    \n",
    "    def __add__(self, other):\n",
    "        x = self.x + other.x\n",
    "        y = self.y +other.y\n",
    "        return Vector(x, y=y)\n",
    "    \n",
    "    def __mul__(self, scalar):\n",
    "        return Vector(self.x * scalar, self.y * scalar)\n",
    "    \n",
    "    \n",
    "    \n",
    "    "
   ]
  },
  {
   "cell_type": "code",
   "execution_count": null,
   "metadata": {},
   "outputs": [],
   "source": [
    "# Sequences in Python"
   ]
  },
  {
   "cell_type": "code",
   "execution_count": 1,
   "metadata": {},
   "outputs": [
    {
     "name": "stdout",
     "output_type": "stream",
     "text": [
      "[97, 98, 99, 100, 101, 102, 103, 104, 105, 106, 107, 108, 109, 110, 111, 112, 113, 114, 115, 116, 117, 118, 119, 120, 121, 122]\n"
     ]
    }
   ],
   "source": [
    "# List Comprehensions and Generator Expressions\n",
    "alphabet = 'abcdefghijklmnopqrstuvwxyz'\n",
    "alphabet_codes = [ord(letter) for letter in alphabet]\n",
    "print(alphabet_codes)"
   ]
  },
  {
   "cell_type": "code",
   "execution_count": 9,
   "metadata": {},
   "outputs": [
    {
     "name": "stdout",
     "output_type": "stream",
     "text": [
      "0 1 [2, 3, 4]\n"
     ]
    },
    {
     "data": {
      "text/plain": [
       "[range(0, 4), 4]"
      ]
     },
     "execution_count": 9,
     "metadata": {},
     "output_type": "execute_result"
    }
   ],
   "source": [
    "# Tuples: Immutable? Yes, but only on the surface\n",
    "# Tuple Unpacking\n",
    "# parallel assignment - assigning items from an iterable to a tuple of variables, useful for swapping values of variables without a temporary variable\n",
    "# Using * to grab excess items or when calling a function\n",
    "\n",
    "a, b, *rest = range(5)\n",
    "print(a, b, rest) # 0 1 [2, 3, 4]\n",
    "\n",
    "[*range(4), 4] # 0, 1, 2, 3, 4\n",
    "[range(4), 4] # [range(0, 4), 4]"
   ]
  },
  {
   "cell_type": "code",
   "execution_count": null,
   "metadata": {},
   "outputs": [],
   "source": [
    "# Pattern matching with sequences\n",
    "\n",
    "match subject:\n",
    "    case <pattern_1>:\n",
    "        <action_1>\n",
    "    case <pattern_2>:\n",
    "        <action_2>\n",
    "    case <pattern_3>:\n",
    "        <action_3>\n",
    "    case _:\n",
    "        <action_wildcard>"
   ]
  },
  {
   "cell_type": "code",
   "execution_count": 17,
   "metadata": {},
   "outputs": [
    {
     "name": "stdout",
     "output_type": "stream",
     "text": [
      "Origin is the point's location.\n"
     ]
    }
   ],
   "source": [
    "class Point:\n",
    "    x: int\n",
    "    y: int\n",
    "\n",
    "    def __init__(self, x, y):\n",
    "        self.x = x\n",
    "        self.y = y\n",
    "\n",
    "def location(point):\n",
    "    match point:\n",
    "        case Point(x=0, y=0):\n",
    "            print(\"Origin is the point's location.\")\n",
    "        case Point(x=0, y=y):\n",
    "            print(f\"Y={y} and the point is on the y-axis.\")\n",
    "        case Point(x=x, y=0):\n",
    "            print(f\"X={x} and the point is on the x-axis.\")\n",
    "        case Point():\n",
    "            print(\"The point is located somewhere else on the plane.\")\n",
    "        case _:\n",
    "            print(\"Not a point\")\n",
    "            \n",
    "point = Point(0,0)\n",
    "location(point)"
   ]
  },
  {
   "cell_type": "code",
   "execution_count": null,
   "metadata": {},
   "outputs": [],
   "source": [
    "# Example 2-9. Method from an imaginary Robot class\n"
   ]
  },
  {
   "cell_type": "code",
   "execution_count": 21,
   "metadata": {},
   "outputs": [
    {
     "name": "stdout",
     "output_type": "stream",
     "text": [
      "[['_', '_', '_'], ['_', '_', '_'], ['_', '_', '_']]\n",
      "[['_', '_', '_'], ['_', '_', '_'], ['_', '_', '_']]\n",
      "[['_', '_', 'O'], ['_', '_', 'O'], ['_', '_', 'O']]\n"
     ]
    }
   ],
   "source": [
    "# Initializing a list with a certain number of nested lists\n",
    "board = [['_'] * 3 for i in range(3)]\n",
    "print(board)\n",
    "weird_board = [['_'] * 3] * 3\n",
    "print(weird_board)\n",
    "weird_board[1][2] = 'O'\n",
    "print(weird_board)"
   ]
  },
  {
   "cell_type": "code",
   "execution_count": 23,
   "metadata": {},
   "outputs": [
    {
     "name": "stdout",
     "output_type": "stream",
     "text": [
      "['apple', 'banana', 'grape', 'raspberry']\n",
      "['grape', 'raspberry', 'apple', 'banana']\n",
      "['apple', 'banana', 'grape', 'raspberry']\n",
      "['grape', 'apple', 'banana', 'raspberry']\n"
     ]
    }
   ],
   "source": [
    "# Sorting\n",
    "\n",
    "fruits = ['grape', 'raspberry', 'apple', 'banana']\n",
    "sorted_fruits = sorted(fruits)\n",
    "print(sorted_fruits)\n",
    "print(fruits)\n",
    "fruits.sort()\n",
    "print(fruits)\n",
    "\n",
    "fruits = ['grape', 'raspberry', 'apple', 'banana']\n",
    "sorted_fruits_by_length = sorted(fruits, key=len)\n",
    "print(sorted_fruits_by_length)"
   ]
  },
  {
   "cell_type": "code",
   "execution_count": 24,
   "metadata": {},
   "outputs": [
    {
     "name": "stdout",
     "output_type": "stream",
     "text": [
      "DEMO: bisect_right\n",
      "haystack ->  1  4  5  6  8 12 15 20 21 23 23 26 29 30\n",
      "31 @ 14      |  |  |  |  |  |  |  |  |  |  |  |  |  |31\n",
      "30 @ 14      |  |  |  |  |  |  |  |  |  |  |  |  |  |30\n",
      "29 @ 13      |  |  |  |  |  |  |  |  |  |  |  |  |29\n",
      "23 @ 11      |  |  |  |  |  |  |  |  |  |  |23\n",
      "22 @  9      |  |  |  |  |  |  |  |  |22\n",
      "10 @  5      |  |  |  |  |10\n",
      " 8 @  5      |  |  |  |  |8 \n",
      " 5 @  3      |  |  |5 \n",
      " 2 @  1      |2 \n",
      " 1 @  1      |1 \n",
      " 0 @  0    0 \n"
     ]
    }
   ],
   "source": [
    "# Bisect - uses the binary search algorithm to find (bisect) and insert (insort) items in a sorted list. \n",
    "import bisect\n",
    "import sys\n",
    "\n",
    "HAYSTACK = [1,4,5,6,8,12,15,20,21,23,23,26,29,30]\n",
    "NEEDLES = [0,1,2,5,8,10,22,23,29,30,31]\n",
    "\n",
    "ROW_FMT = '{0:2d} @ {1:2d}    {2}{0:<2d}' # format for printing the needle, position, and offset\n",
    "\n",
    "def demo(bisect_fn):\n",
    "    for needle in reversed(NEEDLES):\n",
    "        position = bisect_fn(HAYSTACK, needle) # search for the needle in the haystack\n",
    "        offset = position * '  |' # create the offset\n",
    "        print(ROW_FMT.format(needle, position, offset)) # print the needle, position, and offset\n",
    "\n",
    "if __name__ == '__main__':\n",
    "    if sys.argv[-1] == 'left':\n",
    "        bisect_fn = bisect.bisect_left\n",
    "    else:\n",
    "        bisect_fn = bisect.bisect\n",
    "    \n",
    "    print('DEMO:', bisect_fn.__name__)\n",
    "    print('haystack ->', ' '.join('%2d' % n for n in HAYSTACK))\n",
    "    demo(bisect_fn)\n"
   ]
  },
  {
   "cell_type": "code",
   "execution_count": 25,
   "metadata": {},
   "outputs": [
    {
     "data": {
      "text/plain": [
       "['F', 'A', 'C', 'C', 'B', 'A', 'A']"
      ]
     },
     "execution_count": 25,
     "metadata": {},
     "output_type": "execute_result"
    }
   ],
   "source": [
    "# Example 2-18. Given a test score, grade returns the corresponding letter grade\n",
    "def grade(score, breakpoints=[60,70,80,90], grades='FDCBA'):\n",
    "    i = bisect.bisect(breakpoints, score)\n",
    "    return grades[i]\n",
    "\n",
    "[grade(score) for score in [33, 99, 77, 70, 89, 90, 100]]"
   ]
  },
  {
   "cell_type": "code",
   "execution_count": 26,
   "metadata": {},
   "outputs": [
    {
     "name": "stdout",
     "output_type": "stream",
     "text": [
      "10 -> [10]\n",
      " 0 -> [0, 10]\n",
      " 6 -> [0, 6, 10]\n",
      " 8 -> [0, 6, 8, 10]\n",
      " 7 -> [0, 6, 7, 8, 10]\n",
      " 2 -> [0, 2, 6, 7, 8, 10]\n",
      "10 -> [0, 2, 6, 7, 8, 10, 10]\n"
     ]
    }
   ],
   "source": [
    "# Example 2-19. Insort keeps a sorted sequence always sorted\n",
    "import bisect\n",
    "import random\n",
    "\n",
    "SIZE = 7\n",
    "\n",
    "random.seed(1729)\n",
    "\n",
    "my_list = []\n",
    "for i in range(SIZE):\n",
    "    new_item = random.randrange(SIZE*2)\n",
    "    bisect.insort(my_list, new_item)\n",
    "    print('%2d ->' % new_item, my_list)\n",
    "    \n"
   ]
  },
  {
   "cell_type": "code",
   "execution_count": null,
   "metadata": {},
   "outputs": [
    {
     "name": "stdout",
     "output_type": "stream",
     "text": [
      "0.1288579230853678\n",
      "0.1288579230853678\n",
      "True\n"
     ]
    }
   ],
   "source": [
    "# Arrays\n",
    "from array import array\n",
    "from random import random\n",
    "\n",
    "# Example 2-20. Creating, saving, and loading a large array of floats\n",
    "floats = array('d', (random() for i in range(10**7))) # type code 'd' is for double-precision floating-point numbers\n",
    "print(floats[-1])\n",
    "\n",
    "fp = open('floats.bin', 'wb') # open the file in binary mode\n",
    "floats.tofile(fp)\n",
    "fp.close()\n",
    "\n",
    "floats2 = array('d') # create an array of doubles\n",
    "fp = open('floats.bin', 'rb')\n",
    "floats2.fromfile(fp, 10**7) # read 10 million numbers from the binary file\n",
    "fp.close()\n",
    "\n",
    "print(floats2[-1])\n",
    "print(floats2 == floats)\n",
    "\n",
    "# saving with array.tofile and loading with array.fromfile is about 60 times faster than using \n",
    "# pickle.dump and pickle.load"
   ]
  },
  {
   "cell_type": "code",
   "execution_count": 32,
   "metadata": {},
   "outputs": [
    {
     "name": "stdout",
     "output_type": "stream",
     "text": [
      "5\n",
      "-2\n",
      "<memory at 0x00000298583FCDC0>\n"
     ]
    }
   ],
   "source": [
    "# Memory View - built-in Python memoryview class is a shared-memory sequence type that lets you \n",
    "# handle slices of arrays without copying bytes\n",
    "\n",
    "numbers = array('h', [-2, -1, 0, 1, 2]) # type code 'h' is for signed short integers\n",
    "memv = memoryview(numbers) # create a memory view on the array of short integers\n",
    "print(len(memv))\n",
    "\n",
    "print(memv[0])\n",
    "\n",
    "memv_oct = memv.cast('B') # create a memory view of unsigned bytes\n",
    "memv_oct.tolist() # convert the memory view to a list of integers\n",
    "\n",
    "memv_oct[5] = 4 # change the 6th byte in the unsigned bytes memory view\n",
    "print(memv_oct)"
   ]
  },
  {
   "cell_type": "code",
   "execution_count": 35,
   "metadata": {},
   "outputs": [
    {
     "name": "stdout",
     "output_type": "stream",
     "text": [
      "[ 0  1  2  3  4  5  6  7  8  9 10 11]\n",
      "<class 'numpy.ndarray'>\n",
      "(12,)\n",
      "[[ 0  1  2  3]\n",
      " [ 4  5  6  7]\n",
      " [ 8  9 10 11]]\n",
      "[ 8  9 10 11]\n",
      "9\n",
      "[1 5 9]\n",
      "[[ 0  4  8]\n",
      " [ 1  5  9]\n",
      " [ 2  6 10]\n",
      " [ 3  7 11]]\n",
      "(4, 3)\n"
     ]
    }
   ],
   "source": [
    "import numpy as np\n",
    "# Basic Numpy Operations\n",
    "a = np.arange(12)\n",
    "print(a) # array([0, 1, 2, 3, 4, 5, 6, 7, 8, 9, 10, 11])\n",
    "print(type(a)) # <class 'numpy.ndarray'>\n",
    "print(a.shape) # (12,)\n",
    "\n",
    "a.shape = 3, 4\n",
    "print(a) # array([[ 0,  1,  2,  3], [ 4,  5,  6,  7], [ 8,  9, 10, 11]])\n",
    "print(a[2]) # array([8, 9, 10, 11])\n",
    "print(a[2,1]) # 9\n",
    "print(a[:,1]) # array([1, 5, 9])\n",
    "print(a.transpose()) # array([[ 0,  4,  8], [ 1,  5,  9], [ 2,  6, 10], [ 3,  7, 11]])\n",
    "print(a.transpose().shape) # (4, 3)\n"
   ]
  },
  {
   "cell_type": "code",
   "execution_count": 43,
   "metadata": {},
   "outputs": [
    {
     "name": "stdout",
     "output_type": "stream",
     "text": [
      "deque([0, 1, 2, 3, 4, 5, 6, 7, 8, 9], maxlen=10)\n",
      "deque([7, 8, 9, 0, 1, 2, 3, 4, 5, 6], maxlen=10)\n",
      "deque([1, 2, 3, 4, 5, 6, 7, 8, 9, 0], maxlen=10)\n",
      "deque([-1, 1, 2, 3, 4, 5, 6, 7, 8, 9], maxlen=10)\n",
      "deque([3, 4, 5, 6, 7, 8, 9, 11, 22, 33], maxlen=10)\n",
      "deque([40, 30, 20, 10, 3, 4, 5, 6, 7, 8], maxlen=10)\n"
     ]
    }
   ],
   "source": [
    "# Deques - double-ended queues\n",
    "# Example 2-23. Working with a deque\n",
    "\n",
    "from collections import deque\n",
    "dq = deque(range(10), maxlen=10) # create a deque with 10 items\n",
    "print(dq)\n",
    "dq.rotate(3) # rotate the deque 3 steps to the right\n",
    "print(dq) # deque([7, 8, 9, 0, 1, 2, 3, 4, 5, 6], maxlen=10)\n",
    "\n",
    "dq.rotate(-4) \n",
    "print(dq) # deque([1, 2, 3, 4, 5, 6, 7, 8, 9, 0], maxlen=10)\n",
    "\n",
    "dq.appendleft(-1) # add -1 to the left\n",
    "print(dq) # deque([-1, 1, 2, 3, 4, 5, 6, 7, 8, 9], maxlen=10)\n",
    "\n",
    "dq.extend([11, 22, 33])  # add three items to the right\n",
    "print(dq) # deque([3, 4, 5, 6, 7, 8, 9, 11, 22, 33], maxlen=10)\n",
    "\n",
    "dq.extendleft([10, 20, 30, 40]) # add four items to the left\n",
    "print(dq) # deque([40, 30, 20, 10, 3, 4, 5, 6, 7, 8], maxlen=10)\n",
    "\n",
    "# other queue libraries: queue, multiprocessing, asyncio, heapq, sched, and asyncio\n",
    "\n"
   ]
  },
  {
   "cell_type": "code",
   "execution_count": null,
   "metadata": {},
   "outputs": [],
   "source": []
  },
  {
   "cell_type": "code",
   "execution_count": null,
   "metadata": {},
   "outputs": [],
   "source": [
    "# The Named Tuple\n",
    "# The collections.namedtuple function is a factory that produces subclasses of tuple enhanced with field names and a class name\n",
    "# IMPORTANT: Instances of a class that you build with namedtuple takes exactly the SAME amount of memory as tuples because the field names are stored in the class, not the instance\n",
    "# They use less memory than a regular object because they don't store attributes in a per-instance __dict__ dictionary\n",
    "\n",
    "from collections import namedtuple\n",
    "City = namedtuple('City', 'name country population coordinates')\n",
    "tokyo = City('Tokyo', 'JP', 36.933, (35.689722, 139.691667))\n",
    "\n",
    "# _fields is a useful attribute while _make() and _asdict() are useful class methods\n"
   ]
  }
 ],
 "metadata": {
  "kernelspec": {
   "display_name": "pyten",
   "language": "python",
   "name": "python3"
  },
  "language_info": {
   "codemirror_mode": {
    "name": "ipython",
    "version": 3
   },
   "file_extension": ".py",
   "mimetype": "text/x-python",
   "name": "python",
   "nbconvert_exporter": "python",
   "pygments_lexer": "ipython3",
   "version": "3.10.13"
  }
 },
 "nbformat": 4,
 "nbformat_minor": 2
}
