{
 "cells": [
  {
   "cell_type": "code",
   "execution_count": 10,
   "metadata": {},
   "outputs": [],
   "source": [
    "import collections\n",
    "from random import choice\n",
    "\n",
    "Card = collections.namedtuple('Card', ['rank','suit'])\n",
    "\n",
    "\n",
    "class FrenchDeck:\n",
    "    ranks = [str(n) for n in range(2, 11)] + list('JQKA')\n",
    "    suits = 'spades diamonds clubs hearts'.split()\n",
    "\n",
    "    def __init__(self):\n",
    "        self._cards = [Card(rank, suit) for suit in self.suits\n",
    "                                       for rank in self.ranks]\n",
    "    \n",
    "    def __len__(self):\n",
    "        return len(self._cards)\n",
    "    \n",
    "    def __getitem__(self, position):\n",
    "        return self._cards[position]\n",
    "    \n",
    "    def random_card(self):\n",
    "        return choice(self._cards)\n",
    "\n",
    "# Note: this FrenchDeck is immutable, because it only has __getitem__ and __len__ methods"
   ]
  },
  {
   "cell_type": "code",
   "execution_count": null,
   "metadata": {},
   "outputs": [],
   "source": [
    "# list comprehension examples\n",
    "[str(n) for n in range(2, 11)] + list('JQKA')\n",
    "[Card(rank, suit) for suit in FrenchDeck.suits for rank in FrenchDeck.ranks]"
   ]
  },
  {
   "cell_type": "code",
   "execution_count": null,
   "metadata": {},
   "outputs": [],
   "source": [
    "# __getitem__ example\n",
    "deck = FrenchDeck()\n",
    "print(f'Select index 5: {deck[5]}')\n",
    "\n",
    "# benefits of implementing the __getitem__ method\n",
    "print(f'Retrieve the first 3 cards: {deck[:3]}') # slicing\n",
    "print(f'Pick cards by rank: {deck[12::13]}') # picking cards by rank\n",
    "\n",
    "for card in deck: # iterting over the deck\n",
    "    print(card)"
   ]
  },
  {
   "cell_type": "code",
   "execution_count": null,
   "metadata": {},
   "outputs": [],
   "source": [
    "# random_choice example\n",
    "print(deck.random_card())"
   ]
  },
  {
   "cell_type": "code",
   "execution_count": 22,
   "metadata": {},
   "outputs": [
    {
     "name": "stdout",
     "output_type": "stream",
     "text": [
      "Sorted cards:  [Card(rank='2', suit='clubs'), Card(rank='2', suit='diamonds'), Card(rank='2', suit='hearts'), Card(rank='2', suit='spades'), Card(rank='3', suit='clubs'), Card(rank='3', suit='diamonds'), Card(rank='3', suit='hearts'), Card(rank='3', suit='spades'), Card(rank='4', suit='clubs'), Card(rank='4', suit='diamonds'), Card(rank='4', suit='hearts'), Card(rank='4', suit='spades'), Card(rank='5', suit='clubs'), Card(rank='5', suit='diamonds'), Card(rank='5', suit='hearts'), Card(rank='5', suit='spades'), Card(rank='6', suit='clubs'), Card(rank='6', suit='diamonds'), Card(rank='6', suit='hearts'), Card(rank='6', suit='spades'), Card(rank='7', suit='clubs'), Card(rank='7', suit='diamonds'), Card(rank='7', suit='hearts'), Card(rank='7', suit='spades'), Card(rank='8', suit='clubs'), Card(rank='8', suit='diamonds'), Card(rank='8', suit='hearts'), Card(rank='8', suit='spades'), Card(rank='9', suit='clubs'), Card(rank='9', suit='diamonds'), Card(rank='9', suit='hearts'), Card(rank='9', suit='spades'), Card(rank='10', suit='clubs'), Card(rank='10', suit='diamonds'), Card(rank='10', suit='hearts'), Card(rank='10', suit='spades'), Card(rank='J', suit='clubs'), Card(rank='J', suit='diamonds'), Card(rank='J', suit='hearts'), Card(rank='J', suit='spades'), Card(rank='Q', suit='clubs'), Card(rank='Q', suit='diamonds'), Card(rank='Q', suit='hearts'), Card(rank='Q', suit='spades'), Card(rank='K', suit='clubs'), Card(rank='K', suit='diamonds'), Card(rank='K', suit='hearts'), Card(rank='K', suit='spades'), Card(rank='A', suit='clubs'), Card(rank='A', suit='diamonds'), Card(rank='A', suit='hearts'), Card(rank='A', suit='spades')]\n"
     ]
    }
   ],
   "source": [
    "# ranking and sorting the cards\n",
    "suit_values = dict(spades=3, hearts=2, diamonds=1, clubs=0)\n",
    "def spades_high(card):\n",
    "    rank_value = FrenchDeck.ranks.index(card.rank) # get the index of the card rank 0, 1, 2, 3, 4, 5, 6, 7, 8, 9, 10, J, Q, K, A\n",
    "    return rank_value * len(suit_values) + suit_values[card.suit] # multiply the rank value by the length of the suit values and add the suit value ex. 0 * 4 + 3 = 3\n",
    "\n",
    "print(\"Sorted cards: \", [card for card in sorted(deck, key=spades_high)])"
   ]
  },
  {
   "cell_type": "code",
   "execution_count": null,
   "metadata": {},
   "outputs": [],
   "source": [
    "from math import hypot\n",
    "\n",
    "class Vector:\n",
    "    def __init__(self, x=0, y=0):\n",
    "        self.x = x\n",
    "        self.y = y\n",
    "        \n",
    "    def __repr__(self):\n",
    "        return f'Vector({self.x}, {self.y})'\n",
    "    \n",
    "    def __abs__(self):\n",
    "        return hypot(self.x, self.y)\n",
    "    \n",
    "    def __bool__(self):\n",
    "        return bool(abs(self))\n",
    "    \n",
    "    def __add__(self, other):\n",
    "        x = self.x + other.x\n",
    "        y = self.y +other.y\n",
    "        return Vector(x, y=y)\n",
    "    \n",
    "    def __mul__(self, scalar):\n",
    "        return Vector(self.x * scalar, self.y * scalar)\n",
    "    \n",
    "    \n",
    "    \n",
    "    "
   ]
  },
  {
   "cell_type": "code",
   "execution_count": null,
   "metadata": {},
   "outputs": [],
   "source": [
    "# Sequences in Python"
   ]
  },
  {
   "cell_type": "code",
   "execution_count": 1,
   "metadata": {},
   "outputs": [
    {
     "name": "stdout",
     "output_type": "stream",
     "text": [
      "[97, 98, 99, 100, 101, 102, 103, 104, 105, 106, 107, 108, 109, 110, 111, 112, 113, 114, 115, 116, 117, 118, 119, 120, 121, 122]\n"
     ]
    }
   ],
   "source": [
    "# List Comprehensions and Generator Expressions\n",
    "alphabet = 'abcdefghijklmnopqrstuvwxyz'\n",
    "alphabet_codes = [ord(letter) for letter in alphabet]\n",
    "print(alphabet_codes)"
   ]
  },
  {
   "cell_type": "code",
   "execution_count": 9,
   "metadata": {},
   "outputs": [
    {
     "name": "stdout",
     "output_type": "stream",
     "text": [
      "0 1 [2, 3, 4]\n"
     ]
    },
    {
     "data": {
      "text/plain": [
       "[range(0, 4), 4]"
      ]
     },
     "execution_count": 9,
     "metadata": {},
     "output_type": "execute_result"
    }
   ],
   "source": [
    "# Tuples: Immutable? Yes, but only on the surface\n",
    "# Tuple Unpacking\n",
    "# parallel assignment - assigning items from an iterable to a tuple of variables, useful for swapping values of variables without a temporary variable\n",
    "# Using * to grab excess items or when calling a function\n",
    "\n",
    "a, b, *rest = range(5)\n",
    "print(a, b, rest) # 0 1 [2, 3, 4]\n",
    "\n",
    "[*range(4), 4] # 0, 1, 2, 3, 4\n",
    "[range(4), 4] # [range(0, 4), 4]"
   ]
  },
  {
   "cell_type": "code",
   "execution_count": null,
   "metadata": {},
   "outputs": [],
   "source": [
    "# Pattern matching with sequences\n",
    "\n",
    "match subject:\n",
    "    case <pattern_1>:\n",
    "        <action_1>\n",
    "    case <pattern_2>:\n",
    "        <action_2>\n",
    "    case <pattern_3>:\n",
    "        <action_3>\n",
    "    case _:\n",
    "        <action_wildcard>"
   ]
  },
  {
   "cell_type": "code",
   "execution_count": 17,
   "metadata": {},
   "outputs": [
    {
     "name": "stdout",
     "output_type": "stream",
     "text": [
      "Origin is the point's location.\n"
     ]
    }
   ],
   "source": [
    "class Point:\n",
    "    x: int\n",
    "    y: int\n",
    "\n",
    "    def __init__(self, x, y):\n",
    "        self.x = x\n",
    "        self.y = y\n",
    "\n",
    "def location(point):\n",
    "    match point:\n",
    "        case Point(x=0, y=0):\n",
    "            print(\"Origin is the point's location.\")\n",
    "        case Point(x=0, y=y):\n",
    "            print(f\"Y={y} and the point is on the y-axis.\")\n",
    "        case Point(x=x, y=0):\n",
    "            print(f\"X={x} and the point is on the x-axis.\")\n",
    "        case Point():\n",
    "            print(\"The point is located somewhere else on the plane.\")\n",
    "        case _:\n",
    "            print(\"Not a point\")\n",
    "            \n",
    "point = Point(0,0)\n",
    "location(point)"
   ]
  },
  {
   "cell_type": "code",
   "execution_count": null,
   "metadata": {},
   "outputs": [],
   "source": [
    "# Example 2-9. Method from an imaginary Robot class\n"
   ]
  },
  {
   "cell_type": "code",
   "execution_count": 21,
   "metadata": {},
   "outputs": [
    {
     "name": "stdout",
     "output_type": "stream",
     "text": [
      "[['_', '_', '_'], ['_', '_', '_'], ['_', '_', '_']]\n",
      "[['_', '_', '_'], ['_', '_', '_'], ['_', '_', '_']]\n",
      "[['_', '_', 'O'], ['_', '_', 'O'], ['_', '_', 'O']]\n"
     ]
    }
   ],
   "source": [
    "# Initializing a list with a certain number of nested lists\n",
    "board = [['_'] * 3 for i in range(3)]\n",
    "print(board)\n",
    "weird_board = [['_'] * 3] * 3\n",
    "print(weird_board)\n",
    "weird_board[1][2] = 'O'\n",
    "print(weird_board)"
   ]
  },
  {
   "cell_type": "code",
   "execution_count": 23,
   "metadata": {},
   "outputs": [
    {
     "name": "stdout",
     "output_type": "stream",
     "text": [
      "['apple', 'banana', 'grape', 'raspberry']\n",
      "['grape', 'raspberry', 'apple', 'banana']\n",
      "['apple', 'banana', 'grape', 'raspberry']\n",
      "['grape', 'apple', 'banana', 'raspberry']\n"
     ]
    }
   ],
   "source": [
    "# Sorting\n",
    "\n",
    "fruits = ['grape', 'raspberry', 'apple', 'banana']\n",
    "sorted_fruits = sorted(fruits)\n",
    "print(sorted_fruits)\n",
    "print(fruits)\n",
    "fruits.sort()\n",
    "print(fruits)\n",
    "\n",
    "fruits = ['grape', 'raspberry', 'apple', 'banana']\n",
    "sorted_fruits_by_length = sorted(fruits, key=len)\n",
    "print(sorted_fruits_by_length)"
   ]
  },
  {
   "cell_type": "code",
   "execution_count": 24,
   "metadata": {},
   "outputs": [
    {
     "name": "stdout",
     "output_type": "stream",
     "text": [
      "DEMO: bisect_right\n",
      "haystack ->  1  4  5  6  8 12 15 20 21 23 23 26 29 30\n",
      "31 @ 14      |  |  |  |  |  |  |  |  |  |  |  |  |  |31\n",
      "30 @ 14      |  |  |  |  |  |  |  |  |  |  |  |  |  |30\n",
      "29 @ 13      |  |  |  |  |  |  |  |  |  |  |  |  |29\n",
      "23 @ 11      |  |  |  |  |  |  |  |  |  |  |23\n",
      "22 @  9      |  |  |  |  |  |  |  |  |22\n",
      "10 @  5      |  |  |  |  |10\n",
      " 8 @  5      |  |  |  |  |8 \n",
      " 5 @  3      |  |  |5 \n",
      " 2 @  1      |2 \n",
      " 1 @  1      |1 \n",
      " 0 @  0    0 \n"
     ]
    }
   ],
   "source": [
    "# Bisect - uses the binary search algorithm to find (bisect) and insert (insort) items in a sorted list. \n",
    "import bisect\n",
    "import sys\n",
    "\n",
    "HAYSTACK = [1,4,5,6,8,12,15,20,21,23,23,26,29,30]\n",
    "NEEDLES = [0,1,2,5,8,10,22,23,29,30,31]\n",
    "\n",
    "ROW_FMT = '{0:2d} @ {1:2d}    {2}{0:<2d}' # format for printing the needle, position, and offset\n",
    "\n",
    "def demo(bisect_fn):\n",
    "    for needle in reversed(NEEDLES):\n",
    "        position = bisect_fn(HAYSTACK, needle) # search for the needle in the haystack\n",
    "        offset = position * '  |' # create the offset\n",
    "        print(ROW_FMT.format(needle, position, offset)) # print the needle, position, and offset\n",
    "\n",
    "if __name__ == '__main__':\n",
    "    if sys.argv[-1] == 'left':\n",
    "        bisect_fn = bisect.bisect_left\n",
    "    else:\n",
    "        bisect_fn = bisect.bisect\n",
    "    \n",
    "    print('DEMO:', bisect_fn.__name__)\n",
    "    print('haystack ->', ' '.join('%2d' % n for n in HAYSTACK))\n",
    "    demo(bisect_fn)\n"
   ]
  },
  {
   "cell_type": "code",
   "execution_count": 25,
   "metadata": {},
   "outputs": [
    {
     "data": {
      "text/plain": [
       "['F', 'A', 'C', 'C', 'B', 'A', 'A']"
      ]
     },
     "execution_count": 25,
     "metadata": {},
     "output_type": "execute_result"
    }
   ],
   "source": [
    "# Example 2-18. Given a test score, grade returns the corresponding letter grade\n",
    "def grade(score, breakpoints=[60,70,80,90], grades='FDCBA'):\n",
    "    i = bisect.bisect(breakpoints, score)\n",
    "    return grades[i]\n",
    "\n",
    "[grade(score) for score in [33, 99, 77, 70, 89, 90, 100]]"
   ]
  },
  {
   "cell_type": "code",
   "execution_count": 26,
   "metadata": {},
   "outputs": [
    {
     "name": "stdout",
     "output_type": "stream",
     "text": [
      "10 -> [10]\n",
      " 0 -> [0, 10]\n",
      " 6 -> [0, 6, 10]\n",
      " 8 -> [0, 6, 8, 10]\n",
      " 7 -> [0, 6, 7, 8, 10]\n",
      " 2 -> [0, 2, 6, 7, 8, 10]\n",
      "10 -> [0, 2, 6, 7, 8, 10, 10]\n"
     ]
    }
   ],
   "source": [
    "# Example 2-19. Insort keeps a sorted sequence always sorted\n",
    "import bisect\n",
    "import random\n",
    "\n",
    "SIZE = 7\n",
    "\n",
    "random.seed(1729)\n",
    "\n",
    "my_list = []\n",
    "for i in range(SIZE):\n",
    "    new_item = random.randrange(SIZE*2)\n",
    "    bisect.insort(my_list, new_item)\n",
    "    print('%2d ->' % new_item, my_list)\n",
    "    \n"
   ]
  },
  {
   "cell_type": "code",
   "execution_count": null,
   "metadata": {},
   "outputs": [
    {
     "name": "stdout",
     "output_type": "stream",
     "text": [
      "0.1288579230853678\n",
      "0.1288579230853678\n",
      "True\n"
     ]
    }
   ],
   "source": [
    "# Arrays\n",
    "from array import array\n",
    "from random import random\n",
    "\n",
    "# Example 2-20. Creating, saving, and loading a large array of floats\n",
    "floats = array('d', (random() for i in range(10**7))) # type code 'd' is for double-precision floating-point numbers\n",
    "print(floats[-1])\n",
    "\n",
    "fp = open('floats.bin', 'wb') # open the file in binary mode\n",
    "floats.tofile(fp)\n",
    "fp.close()\n",
    "\n",
    "floats2 = array('d') # create an array of doubles\n",
    "fp = open('floats.bin', 'rb')\n",
    "floats2.fromfile(fp, 10**7) # read 10 million numbers from the binary file\n",
    "fp.close()\n",
    "\n",
    "print(floats2[-1])\n",
    "print(floats2 == floats)\n",
    "\n",
    "# saving with array.tofile and loading with array.fromfile is about 60 times faster than using \n",
    "# pickle.dump and pickle.load"
   ]
  },
  {
   "cell_type": "code",
   "execution_count": 32,
   "metadata": {},
   "outputs": [
    {
     "name": "stdout",
     "output_type": "stream",
     "text": [
      "5\n",
      "-2\n",
      "<memory at 0x00000298583FCDC0>\n"
     ]
    }
   ],
   "source": [
    "# Memory View - built-in Python memoryview class is a shared-memory sequence type that lets you \n",
    "# handle slices of arrays without copying bytes\n",
    "\n",
    "numbers = array('h', [-2, -1, 0, 1, 2]) # type code 'h' is for signed short integers\n",
    "memv = memoryview(numbers) # create a memory view on the array of short integers\n",
    "print(len(memv))\n",
    "\n",
    "print(memv[0])\n",
    "\n",
    "memv_oct = memv.cast('B') # create a memory view of unsigned bytes\n",
    "memv_oct.tolist() # convert the memory view to a list of integers\n",
    "\n",
    "memv_oct[5] = 4 # change the 6th byte in the unsigned bytes memory view\n",
    "print(memv_oct)"
   ]
  },
  {
   "cell_type": "code",
   "execution_count": 35,
   "metadata": {},
   "outputs": [
    {
     "name": "stdout",
     "output_type": "stream",
     "text": [
      "[ 0  1  2  3  4  5  6  7  8  9 10 11]\n",
      "<class 'numpy.ndarray'>\n",
      "(12,)\n",
      "[[ 0  1  2  3]\n",
      " [ 4  5  6  7]\n",
      " [ 8  9 10 11]]\n",
      "[ 8  9 10 11]\n",
      "9\n",
      "[1 5 9]\n",
      "[[ 0  4  8]\n",
      " [ 1  5  9]\n",
      " [ 2  6 10]\n",
      " [ 3  7 11]]\n",
      "(4, 3)\n"
     ]
    }
   ],
   "source": [
    "import numpy as np\n",
    "# Basic Numpy Operations\n",
    "a = np.arange(12)\n",
    "print(a) # array([0, 1, 2, 3, 4, 5, 6, 7, 8, 9, 10, 11])\n",
    "print(type(a)) # <class 'numpy.ndarray'>\n",
    "print(a.shape) # (12,)\n",
    "\n",
    "a.shape = 3, 4\n",
    "print(a) # array([[ 0,  1,  2,  3], [ 4,  5,  6,  7], [ 8,  9, 10, 11]])\n",
    "print(a[2]) # array([8, 9, 10, 11])\n",
    "print(a[2,1]) # 9\n",
    "print(a[:,1]) # array([1, 5, 9])\n",
    "print(a.transpose()) # array([[ 0,  4,  8], [ 1,  5,  9], [ 2,  6, 10], [ 3,  7, 11]])\n",
    "print(a.transpose().shape) # (4, 3)\n"
   ]
  },
  {
   "cell_type": "code",
   "execution_count": 43,
   "metadata": {},
   "outputs": [
    {
     "name": "stdout",
     "output_type": "stream",
     "text": [
      "deque([0, 1, 2, 3, 4, 5, 6, 7, 8, 9], maxlen=10)\n",
      "deque([7, 8, 9, 0, 1, 2, 3, 4, 5, 6], maxlen=10)\n",
      "deque([1, 2, 3, 4, 5, 6, 7, 8, 9, 0], maxlen=10)\n",
      "deque([-1, 1, 2, 3, 4, 5, 6, 7, 8, 9], maxlen=10)\n",
      "deque([3, 4, 5, 6, 7, 8, 9, 11, 22, 33], maxlen=10)\n",
      "deque([40, 30, 20, 10, 3, 4, 5, 6, 7, 8], maxlen=10)\n"
     ]
    }
   ],
   "source": [
    "# Deques - double-ended queues\n",
    "# Example 2-23. Working with a deque\n",
    "\n",
    "from collections import deque\n",
    "dq = deque(range(10), maxlen=10) # create a deque with 10 items\n",
    "print(dq)\n",
    "dq.rotate(3) # rotate the deque 3 steps to the right\n",
    "print(dq) # deque([7, 8, 9, 0, 1, 2, 3, 4, 5, 6], maxlen=10)\n",
    "\n",
    "dq.rotate(-4) \n",
    "print(dq) # deque([1, 2, 3, 4, 5, 6, 7, 8, 9, 0], maxlen=10)\n",
    "\n",
    "dq.appendleft(-1) # add -1 to the left\n",
    "print(dq) # deque([-1, 1, 2, 3, 4, 5, 6, 7, 8, 9], maxlen=10)\n",
    "\n",
    "dq.extend([11, 22, 33])  # add three items to the right\n",
    "print(dq) # deque([3, 4, 5, 6, 7, 8, 9, 11, 22, 33], maxlen=10)\n",
    "\n",
    "dq.extendleft([10, 20, 30, 40]) # add four items to the left\n",
    "print(dq) # deque([40, 30, 20, 10, 3, 4, 5, 6, 7, 8], maxlen=10)\n",
    "\n",
    "# other queue libraries: queue, multiprocessing, asyncio, heapq, sched, and asyncio\n",
    "\n"
   ]
  },
  {
   "cell_type": "code",
   "execution_count": 44,
   "metadata": {},
   "outputs": [
    {
     "name": "stdout",
     "output_type": "stream",
     "text": [
      "False\n",
      "False\n"
     ]
    }
   ],
   "source": [
    "# __eq__ note. __eq__ is a special method that is stands for \"equals.\" \n",
    "# It is used to define the behavior of the equality operator = for instances of a class. \n",
    "# by default it compares obj references, meaning two objects are only \n",
    "# equal if they are the same object in memory. \n",
    "\n",
    "class Point:\n",
    "    def __init__(self, x, y):\n",
    "        self.x = x\n",
    "        self.y = y\n",
    "        \n",
    "p1 = Point(1, 2)\n",
    "p2 = Point(1, 2)\n",
    "print(p1 == p2) # False\n",
    "print(p1 is p2) # False\n",
    "\n",
    "# Though p1 and p2 share attributes, they do not share the same memory location.\n",
    "# To make the comparison work, you need to implement the __eq__ method in the Point class.\n"
   ]
  },
  {
   "cell_type": "code",
   "execution_count": 45,
   "metadata": {},
   "outputs": [
    {
     "name": "stdout",
     "output_type": "stream",
     "text": [
      "True\n",
      "False\n"
     ]
    }
   ],
   "source": [
    "class Point: \n",
    "    def __init__(self, x, y):\n",
    "        self.x = x\n",
    "        self.y = y\n",
    "        \n",
    "    def __eq__(self, other):\n",
    "        return self.x == other.x and self.y == other.y\n",
    "    \n",
    "p1 = Point(1, 2)\n",
    "p2 = Point(1, 2)\n",
    "print(p1 == p2) # True\n",
    "print(p1 is p2) # False, because the \"is\" operator checks that the variables reference the same memory address"
   ]
  },
  {
   "cell_type": "code",
   "execution_count": 49,
   "metadata": {},
   "outputs": [
    {
     "name": "stdout",
     "output_type": "stream",
     "text": [
      "-3907003130834322577\n",
      "5149391500123939311\n"
     ]
    }
   ],
   "source": [
    "# What is hashable?\n",
    "t1 = (1, 2, (30, 40))\n",
    "t2 = (1, 2, [30, 40])\n",
    "print(hash(t1)) \n",
    "# print(hash(t2)) # TypeError: unhashable type: 'list'\n",
    "\n",
    "t3 = (1, 2, frozenset([30, 40]))\n",
    "print(hash(t3))"
   ]
  },
  {
   "cell_type": "code",
   "execution_count": null,
   "metadata": {},
   "outputs": [],
   "source": [
    "# Building dictionaries\n",
    "a = dict(one=1, two=2, three=3)\n",
    "b = {'one': 1, 'two': 2, 'three': 3}\n",
    "c = dict(zip(['one', 'two', 'three'], [1, 2, 3]))\n",
    "d = dict([('two', 2), ('one', 1), ('three', 3)])\n",
    "e = dict({'three': 3, 'one': 1, 'two': 2})\n",
    "\n",
    "# Why would you ever select e over b?\n",
    "# If you're working with a subclass of a dict, and you want to \n",
    "# explicitly pass an existing dictionary to the constructor to enforce the type.\n",
    "# But actually, you most likely wouldn't use e, because it's less readable than b."
   ]
  },
  {
   "cell_type": "code",
   "execution_count": 50,
   "metadata": {},
   "outputs": [
    {
     "name": "stdout",
     "output_type": "stream",
     "text": [
      "{'China': 86, 'India': 91, 'United States': 1, 'Indonesia': 62, 'Brazil': 55, 'Pakistan': 92, 'Bangladesh': 880, 'Nigeria': 234, 'Russia': 7, 'Japan': 81}\n",
      "{1: 'UNITED STATES', 62: 'INDONESIA', 55: 'BRAZIL', 7: 'RUSSIA'}\n"
     ]
    }
   ],
   "source": [
    "# Dictcomp\n",
    "DIAL_CODES = [\n",
    "    (86, 'China'),\n",
    "    (91, 'India'),\n",
    "    (1, 'United States'),\n",
    "    (62, 'Indonesia'),\n",
    "    (55, 'Brazil'),\n",
    "    (92, 'Pakistan'),\n",
    "    (880, 'Bangladesh'),\n",
    "    (234, 'Nigeria'),\n",
    "    (7, 'Russia'),\n",
    "    (81, 'Japan')\n",
    "]\n",
    "\n",
    "country_code = {country: code for code, country in DIAL_CODES}\n",
    "print(country_code)\n",
    "\n",
    "print({code: country.upper() for country, code in country_code.items() if code < 66})"
   ]
  },
  {
   "cell_type": "code",
   "execution_count": 67,
   "metadata": {},
   "outputs": [
    {
     "name": "stdout",
     "output_type": "stream",
     "text": [
      "{'x': 1, 'y': 3, 'z': 4}\n",
      "{'a': 1, 'b': 2, 'c': 3}\n",
      "{'x': 10, 'y': 20, 'z': 30}\n",
      "{'a': {'nested': 2}, 'b': 2, 'c': 3}\n"
     ]
    }
   ],
   "source": [
    "# Examples of strengths of using update()\n",
    "\n",
    "# 1. Merging dictionaries\n",
    "a = {'x': 1, 'y': 2}\n",
    "b = {'y': 3, 'z': 4}\n",
    "a.update(b)\n",
    "print(a) \n",
    "\n",
    "# 2. Adding key-value pairs from iterable\n",
    "d = {'a': 1}\n",
    "new_items = [('b', 2), ('c', 3)]\n",
    "d.update(new_items)\n",
    "print(d) # {'a': 1, 'b': 2, 'c': 3}\n",
    "\n",
    "# 3. Using update with keyword arguments\n",
    "d = {'x': 10}\n",
    "d.update(y=20, z=30)\n",
    "print(d) # {'x': 10, 'y': 20, 'z': 30}\n",
    "\n",
    "# Overwriting and adding multiple levels\n",
    "d = {'a': {'nested': 1}, 'b': 2}\n",
    "updates = {'a': {'nested':2}, 'c': 3}\n",
    "d.update(updates)\n",
    "print(d) # {'a': {'nested': 2}, 'b': 2, 'c': 3}\n"
   ]
  },
  {
   "cell_type": "code",
   "execution_count": 53,
   "metadata": {},
   "outputs": [
    {
     "name": "stdout",
     "output_type": "stream",
     "text": [
      "{'apple': 2, 'bat': 2, 'bar': 1, 'atom': 3, 'book': 1}\n",
      "{'table': 4}\n",
      "{'table': 4}\n"
     ]
    }
   ],
   "source": [
    "# When and how to use setdefault\n",
    "# d[k] raises an error when k is not an existing key.\n",
    "# d.get(k, default) returns the value of k if it exists, otherwise it returns default.\n",
    "# But d.get() can be awkward and inefficient.\n",
    "\n",
    "words = ['apple', 'bat', 'bar', 'atom', 'book', 'bat', 'atom', 'apple', 'atom']\n",
    "word_count = {}\n",
    "\n",
    "for word in words:\n",
    "    word_count.setdefault(word, 0)\n",
    "    word_count[word] += 1\n",
    "    \n",
    "print(word_count)\n",
    "\n",
    "# unlike .append, which searches the key at least twice, setdefault searches the key once all in a single loop.\n",
    "# and unlike .get, setdefault sets the key if it doesn't exist.\n",
    "\n",
    "d = {}\n",
    "d.setdefault('table', 4)\n",
    "print(d)\n",
    "\n",
    "d.get('chair', 0)\n",
    "print(d) # no changes made to dictionary\n",
    "\n",
    "# .get() does not update the dictionary, but setdefault does!!\n"
   ]
  },
  {
   "cell_type": "code",
   "execution_count": 55,
   "metadata": {},
   "outputs": [
    {
     "name": "stdout",
     "output_type": "stream",
     "text": [
      "defaultdict(<class 'list'>, {'key1': []})\n"
     ]
    }
   ],
   "source": [
    "# defaultdict\n",
    "# defaultdict is a subclass of dict that returns a default value when a key is not found.\n",
    "\n",
    "# when instantiating a defaultdict, you provide a callable that is used to produce \n",
    "# default value whenever __getitem__ is passed a nonexistent key arg.\n",
    "\n",
    "from collections import defaultdict\n",
    "dd = defaultdict(list) # list is the callable\n",
    "dd['key1']\n",
    "print(dd) # defaultdict(<class 'list'>, {'key1': []})\n",
    "\n",
    "# defaultdict is only invoked to provide values for __getitem__ calls. \n",
    "# d[k], if k is missing, will call the callable to create a default value, \n",
    "# but d.get(k) will return None.\n",
    "\n",
    "# The method that makes this work is called __missing__.\n"
   ]
  },
  {
   "cell_type": "code",
   "execution_count": null,
   "metadata": {},
   "outputs": [],
   "source": [
    "# converting nonstring keys to str on lookup\n",
    "class StrKeyDict0(dict):\n",
    "    def __missing__(self, key):\n",
    "        if isinstance(key, str):\n",
    "            raise KeyError(key)\n",
    "        return self[str(key)]\n",
    "    \n",
    "    def get(self, key, default=None):\n",
    "        try:\n",
    "            return self[key]\n",
    "        except KeyError:\n",
    "            return default\n",
    "        \n",
    "    def __contains__(self, key):\n",
    "        return key in self.keys() or str(key) in self.keys()\n",
    "    \n",
    "    # __contains__ is called by the in operator\n",
    "    # __missing__ is called by the __getitem__ method (i.e., d[k])\n",
    "    # get is called by the get method (i.e., d.get(k))\n",
    "    # adding __contains__ is important because k in d does not call __missing__\n",
    "    "
   ]
  },
  {
   "cell_type": "code",
   "execution_count": 56,
   "metadata": {},
   "outputs": [
    {
     "name": "stdout",
     "output_type": "stream",
     "text": [
      "Counter({'a': 5, 'b': 2, 'r': 2, 'c': 1, 'd': 1})\n",
      "Counter({'a': 10, 'z': 3, 'b': 2, 'r': 2, 'c': 1, 'd': 1})\n"
     ]
    },
    {
     "data": {
      "text/plain": [
       "[('a', 10), ('z', 3)]"
      ]
     },
     "execution_count": 56,
     "metadata": {},
     "output_type": "execute_result"
    }
   ],
   "source": [
    "# Variations of dict\n",
    "# collections.OrderedDict - maintains keys in insertion order\n",
    "# collections.ChainMap - holds a list of mappings that can be searched as one\n",
    "# collections.Counter - a mapping that holds an integer count for each key\n",
    "# collections.UserDict - a pure Python implementation of a mapping that works like a standard dict\n",
    "\n",
    "from collections import Counter\n",
    "ct = Counter('abracadabra')\n",
    "print(ct) # Counter({'a': 5, 'b': 2, 'r': 2, 'c': 1, 'd': 1})\n",
    "ct.update('aaaaazzz') # add more 'a's and 'z's\n",
    "print(ct) # Counter({'a': 10, 'z': 3, 'b': 2, 'r': 2, 'c': 1, 'd': 1})\n",
    "ct.most_common(2) # get the two most common elements"
   ]
  },
  {
   "cell_type": "code",
   "execution_count": null,
   "metadata": {},
   "outputs": [],
   "source": [
    "# It's preferable to subclass from UserDict rather than dict.\n",
    "# UserDict does not inherit from dict, but has an internal dict instance called data.\n",
    "# UserDict is a wrapper around the dictionary.\n",
    "# You can override only the methods you need without worrying about breaking the other parts. \n",
    "\n",
    "# Example 3-8. StrKeyDict always converts non-string keys to str—on insertion, update, and lookup\n",
    "\n",
    "import collections\n",
    "\n",
    "class StrKeyDict(collections.UserDict):\n",
    "    def __missing__(self, key):\n",
    "        if isinstance(key, str):\n",
    "            raise KeyError(key)\n",
    "        return self[str(key)]\n",
    "    \n",
    "    def __contains__(self, key): \n",
    "        return str(key) in self.data\n",
    "    \n",
    "    def __setitem__(self, key, item): # __setitem__ converts any key to a string\n",
    "        self.data[str(key)] = item\n",
    "        \n",
    "    # in this example, we inherited Mapping.get\n",
    "        \n",
    "# __setitem__ is called by d[k] = v"
   ]
  },
  {
   "cell_type": "code",
   "execution_count": null,
   "metadata": {},
   "outputs": [],
   "source": [
    "# Immutable Mappings\n",
    "# MappingProxyType - a read-only dict\n",
    "\n",
    "# Example 3-9. MappingProxyType creates a read-only mappingproxy instance from a dict\n",
    "from types import MappingProxyType\n",
    "d = {1: 'A'}\n",
    "d_proxy = MappingProxyType(d)\n",
    "print(d_proxy)\n",
    "print(d_proxy[1])\n",
    "# d_proxy[2] = 'x' # TypeError: 'mappingproxy' object does not support item assignment\n",
    "d[2] = 'B'\n",
    "print(d_proxy) # {1: 'A', 2: 'B'}\n",
    "print(d_proxy[2]) # B \n",
    "\n",
    "# d_proxy is a read-only view of d. It is dynamic, meaning that any changes in d are reflected in d_proxy.\n",
    "\n"
   ]
  },
  {
   "cell_type": "code",
   "execution_count": null,
   "metadata": {},
   "outputs": [],
   "source": [
    "# sets\n",
    "# set - a collection of unique objects\n",
    "\n",
    "# exapmle\n",
    "needles = set([1, 2, 3, 4, 5])\n",
    "haystack = set([3, 4, 5, 6, 7, 8, 9])\n",
    "\n",
    "found = len(needles & haystack)\n",
    "print(found) # 3\n",
    "\n",
    "found = needles.intersection(haystack)\n",
    "print(found) # {3, 4, 5}\n",
    "\n",
    "# If needles and haystack are not sets, the alternatives might be cheaper.\n",
    "# For example, if needles is a list, the intersection operation is O(n),\n",
    "# but if needles is a set, the operation is O(1).\n",
    "# converting a list to a set is O(n), but it is worth it if you are \n",
    "# going to perform many intersections.\n"
   ]
  },
  {
   "cell_type": "code",
   "execution_count": 57,
   "metadata": {},
   "outputs": [
    {
     "name": "stdout",
     "output_type": "stream",
     "text": [
      "<class 'set'>\n",
      "<class 'dict'>\n"
     ]
    }
   ],
   "source": [
    "# There is no set literal syntax.\n",
    "# {} always creates a dict, so you must use set() to create an empty set.\n",
    "\n",
    "# You can create non-empty sets using a comma-separated sequence \n",
    "# of values inside curly braces.\n",
    "non_empty_set = {1, 2, 3, 4, 5}\n",
    "print(type(non_empty_set))\n",
    "\n",
    "non_empty_dict = {1: 'A', 2: 'B', 3: 'C'}\n",
    "print(type(non_empty_dict))\n",
    "\n",
    "# Using the set literal is much faster than calling the constructor because\n",
    "# when calling the constructor, Python has to look up the set name in the global scope,\n",
    "# build a list, and then pass it to the constructor.\n",
    "\n",
    "# A literal like {1, 2, 3} is processed using a specialized BUILD_SET bytecode,\n",
    "# which is faster than calling the set constructor.\n",
    "\n",
    "# there is no set literal for frozenset."
   ]
  },
  {
   "cell_type": "code",
   "execution_count": 59,
   "metadata": {},
   "outputs": [
    {
     "name": "stdout",
     "output_type": "stream",
     "text": [
      "{0, 1, 64, 4, 36, 9, 16, 49, 81, 25}\n",
      "{0, 2, 4, 6, 8}\n",
      "{'e', 'b', ' ', 'a', 'p', 'l', '.', 't', 'n', 'c', 'h', 'T', 'd', 'o', 'u', 'j', 'm'}\n"
     ]
    }
   ],
   "source": [
    "# set comprehension examples\n",
    "squares = {x ** 2 for x in range(10)}\n",
    "print(squares)\n",
    "\n",
    "evens = {x for x in range(10) if x % 2 == 0}\n",
    "print(evens)\n",
    "\n",
    "unique_chars = {char for char in 'The cat jumped onto the table.'}\n",
    "print(unique_chars)"
   ]
  },
  {
   "cell_type": "code",
   "execution_count": 62,
   "metadata": {},
   "outputs": [
    {
     "name": "stdout",
     "output_type": "stream",
     "text": [
      "True\n"
     ]
    },
    {
     "data": {
      "text/plain": [
       "True"
      ]
     },
     "execution_count": 62,
     "metadata": {},
     "output_type": "execute_result"
    }
   ],
   "source": [
    "# Hash tables\n",
    "# A hash table is a sparse array (array that has empty cells).\n",
    "# Each cell is called a slot.\n",
    "# Each slot is associated with a key.\n",
    "# The key is a unique identifier for the value.\n",
    "# The value is the data that is stored in the slot.\n",
    "# The hash function is a function that maps keys to slots.\n",
    "# A hash collision occurs when two keys map to the same slot.\n",
    "# It will try to resolve the collision.\n",
    "# A slot can also be called a bucket.\n",
    "# The load factor is the number of keys divided by the number of slots.\n",
    "# The load factor is used to determine when to resize the hash table.\n",
    "# Python tries to keep the load factor below 2/3.\n",
    "\n",
    "num1 = 1\n",
    "num2 = 1.0\n",
    "print(num1 == num2)\n",
    "hash(num1) == hash(num2) # True because num1 == num2\n"
   ]
  },
  {
   "cell_type": "code",
   "execution_count": null,
   "metadata": {},
   "outputs": [],
   "source": [
    "# dicts are not space efficient. \n",
    "# Replacing dicts with tuples can reduce memory usage by 20-30%.\n",
    "\n",
    "# \"Optimization is the altar where maintainability is sacrificed.\""
   ]
  },
  {
   "cell_type": "code",
   "execution_count": null,
   "metadata": {},
   "outputs": [],
   "source": [
    "# MODIFYING THE CONTENTS OF A DICT WHILE ITERATING OVER IT IS A BAD IDEA.\n",
    "# If Python decides to resize the hash table while you are iterating over it,\n",
    "# your loop may not scan all items as expected!!\n",
    "\n",
    "# If you need to scan and add or remove items from a dict,\n",
    "# you can do it in two steps.\n",
    "# Step 1: Scan the dict and collect the keys that need to be modified.\n",
    "# Step 2: Modify the dict using the keys collected in step 1.\n"
   ]
  },
  {
   "cell_type": "code",
   "execution_count": null,
   "metadata": {},
   "outputs": [],
   "source": [
    "# In Python 3, the keys(), items(), and values() methods of dict return \"views\" instead of lists."
   ]
  },
  {
   "cell_type": "code",
   "execution_count": null,
   "metadata": {},
   "outputs": [],
   "source": [
    "# The Named Tuple\n",
    "# The collections.namedtuple function is a factory that produces subclasses of tuple enhanced with field names and a class name\n",
    "# IMPORTANT: Instances of a class that you build with namedtuple takes exactly the SAME amount of memory as tuples because the field names are stored in the class, not the instance\n",
    "# They use less memory than a regular object because they don't store attributes in a per-instance __dict__ dictionary\n",
    "\n",
    "from collections import namedtuple\n",
    "City = namedtuple('City', 'name country population coordinates')\n",
    "tokyo = City('Tokyo', 'JP', 36.933, (35.689722, 139.691667))\n",
    "\n",
    "# _fields is a useful attribute while _make() and _asdict() are useful class methods\n"
   ]
  }
 ],
 "metadata": {
  "kernelspec": {
   "display_name": "pyten",
   "language": "python",
   "name": "python3"
  },
  "language_info": {
   "codemirror_mode": {
    "name": "ipython",
    "version": 3
   },
   "file_extension": ".py",
   "mimetype": "text/x-python",
   "name": "python",
   "nbconvert_exporter": "python",
   "pygments_lexer": "ipython3",
   "version": "3.10.13"
  }
 },
 "nbformat": 4,
 "nbformat_minor": 2
}
