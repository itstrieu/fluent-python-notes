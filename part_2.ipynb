{
 "cells": [
  {
   "cell_type": "markdown",
   "metadata": {},
   "source": [
    "# Chapter 4: Text Versus Bytes\n",
    "## Keywords\n",
    "\n",
    "- code point - the identity of a character; \n",
    "- encoding - converting from code points to bytes\n",
    "- decoding - converting from bytes to code points\n",
    "- `bytes`\n",
    "- `bytearray`\n",
    "- `str`\n"
   ]
  },
  {
   "cell_type": "code",
   "execution_count": 2,
   "metadata": {},
   "outputs": [
    {
     "name": "stdout",
     "output_type": "stream",
     "text": [
      "99\n",
      "b'c'\n",
      "bytearray(b'cafe')\n",
      "bytearray(b'e')\n"
     ]
    }
   ],
   "source": [
    "# Example 4-2. A five-byte sequence as bytes and bytearray\n",
    "cafe = bytes('cafe', encoding='utf8') # bytes can be built from str, given an encoding\n",
    "print(cafe[0]) # 99 - each item is a byte in the range 0-255\n",
    "print(cafe[:1]) # b'c' - slices of bytes are also bytes\n",
    "cafe_arr = bytearray(cafe)\n",
    "print(cafe_arr) # bytearray(b'cafe') - there's no literal syntax for bytearrays\n",
    "print(cafe_arr[-1:]) # bytearray(b'e') - slices of bytearrays are also bytearrays"
   ]
  },
  {
   "cell_type": "markdown",
   "metadata": {},
   "source": [
    "I will be completing this later, since most of it is going over my head. "
   ]
  }
 ],
 "metadata": {
  "kernelspec": {
   "display_name": "pyten",
   "language": "python",
   "name": "python3"
  },
  "language_info": {
   "codemirror_mode": {
    "name": "ipython",
    "version": 3
   },
   "file_extension": ".py",
   "mimetype": "text/x-python",
   "name": "python",
   "nbconvert_exporter": "python",
   "pygments_lexer": "ipython3",
   "version": "3.10.13"
  }
 },
 "nbformat": 4,
 "nbformat_minor": 2
}
