{
 "cells": [
  {
   "cell_type": "markdown",
   "metadata": {},
   "source": [
    "### Functions as Objects"
   ]
  },
  {
   "cell_type": "markdown",
   "metadata": {},
   "source": [
    "# Chapter 5: First-Class Functions\n",
    "## Keywords\n",
    "\n",
    "- first-class object - a program entity that can be created at runtime, assigned to a variable or element in a data structure, passed as an argument to a function, returned as the result of a function (ex. functions, integers, strings, dictionaries)\n",
    "- higher-order function - a function that takes a function as argument or returns a function (Ex.map, filter, reduce, apply)"
   ]
  },
  {
   "cell_type": "code",
   "execution_count": 2,
   "metadata": {},
   "outputs": [
    {
     "name": "stdout",
     "output_type": "stream",
     "text": [
      "1405006117752879898543142606244511569936384000000000\n",
      "returns n\n"
     ]
    },
    {
     "data": {
      "text/plain": [
       "function"
      ]
     },
     "execution_count": 2,
     "metadata": {},
     "output_type": "execute_result"
    }
   ],
   "source": [
    "# Example 5-1. Create and test a function, then read its __doc__ and check its type\n",
    "def factorial(n):\n",
    "    '''returns n'''\n",
    "    return 1 if n <2 else n* factorial(n-1)\n",
    "\n",
    "print(factorial(42))\n",
    "print(factorial.__doc__)\n",
    "type(factorial)"
   ]
  },
  {
   "cell_type": "code",
   "execution_count": 3,
   "metadata": {},
   "outputs": [
    {
     "name": "stdout",
     "output_type": "stream",
     "text": [
      "<function factorial at 0x0000013306766DD0>\n",
      "120\n",
      "<map object at 0x00000133067DB0A0>\n",
      "[1, 1, 2, 6, 24, 120, 720, 5040, 40320, 362880, 3628800]\n"
     ]
    }
   ],
   "source": [
    "# Example 5-2. Use function through a different name, and pass function as an argument\n",
    "fact = factorial\n",
    "print(fact) # <function factorial at 0x7f8b1c7f7d30>\n",
    "print(fact(5)) # 120\n",
    "print(map(factorial, range(11))) # <map object at 0x7f8b1c7f7d30>\n",
    "print(list(map(fact, range(11)))) # [1, 1, 2, 6, 24, 120, 720, 5040, 40320, 362880, 3628800]"
   ]
  },
  {
   "cell_type": "code",
   "execution_count": 5,
   "metadata": {},
   "outputs": [
    {
     "name": "stdout",
     "output_type": "stream",
     "text": [
      "[1, 1, 2, 6, 24, 120]\n",
      "[1, 1, 2, 6, 24, 120]\n",
      "[1, 6, 120]\n",
      "[1, 6, 120]\n"
     ]
    }
   ],
   "source": [
    "# Note: Apply was removed from Python 3.0. If you want a function with a dynamic number of arguments, \n",
    "# you can use fn(*args, **keywords) syntax\n",
    "# There are better alternatives to map, filter, and reduce in Python 3.0.\n",
    "\n",
    "# Example 5-5. Lists of factorials produced with map and filter compared to alternatives \n",
    "# coded as list comprehensions\n",
    "print(list(map(fact, range(6)))) # [1, 1, 2, 6, 24, 120]\n",
    "print([fact(n) for n in range(6)]) # [1, 1, 2, 6, 24, 120]\n",
    "print(list(map(factorial, filter(lambda n: n % 2, range(6))))) # [1, 6, 120]\n",
    "print([factorial(n) for n in range(6) if n % 2]) # [1, 6, 120]\n"
   ]
  },
  {
   "cell_type": "code",
   "execution_count": 6,
   "metadata": {},
   "outputs": [
    {
     "name": "stdout",
     "output_type": "stream",
     "text": [
      "['banana', 'apple', 'fig', 'raspberry', 'strawberry', 'cherry']\n"
     ]
    }
   ],
   "source": [
    "# Anonymous functions\n",
    "# lambda keyword creates an anonymous function within a Python expression\n",
    "\n",
    "# Example 5-6. Sorting a list of words by their reversed spelling using lambda\n",
    "fruits = ['strawberry', 'fig', 'apple', 'cherry', 'raspberry', 'banana']\n",
    "print(sorted(fruits, key=lambda word: word[::-1])) # ['banana', 'apple', 'fig', 'raspberry', 'strawberry', 'cherry']\n",
    "\n",
    "# Anonymous functions are rarely used. \n",
    "# If you find a piece of code hard to read because of a lambda, consider refactoring it as a def."
   ]
  }
 ],
 "metadata": {
  "kernelspec": {
   "display_name": "pyten",
   "language": "python",
   "name": "python3"
  },
  "language_info": {
   "codemirror_mode": {
    "name": "ipython",
    "version": 3
   },
   "file_extension": ".py",
   "mimetype": "text/x-python",
   "name": "python",
   "nbconvert_exporter": "python",
   "pygments_lexer": "ipython3",
   "version": "3.10.13"
  }
 },
 "nbformat": 4,
 "nbformat_minor": 2
}
